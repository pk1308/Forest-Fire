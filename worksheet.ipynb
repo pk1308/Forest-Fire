{
 "cells": [
  {
   "cell_type": "code",
   "execution_count": 4,
   "metadata": {},
   "outputs": [],
   "source": [
    "from six.moves import urllib\n",
    "import pandas as pd"
   ]
  },
  {
   "cell_type": "code",
   "execution_count": 3,
   "metadata": {},
   "outputs": [
    {
     "data": {
      "text/plain": [
       "('Algerian_forest_fires_dataset_UPDATE.csv',\n",
       " <http.client.HTTPMessage at 0x7f2ce0639370>)"
      ]
     },
     "execution_count": 3,
     "metadata": {},
     "output_type": "execute_result"
    }
   ],
   "source": [
    "url = 'https://archive.ics.uci.edu/ml/machine-learning-databases/00547/Algerian_forest_fires_dataset_UPDATE.csv'\n",
    "urllib.request.urlretrieve(url, \"Algerian_forest_fires_dataset_UPDATE.csv\")"
   ]
  },
  {
   "cell_type": "code",
   "execution_count": 13,
   "metadata": {},
   "outputs": [],
   "source": [
    "df = pd.read_csv(\"Algerian_forest_fires_dataset_UPDATE.csv\" , header = 1)"
   ]
  },
  {
   "cell_type": "code",
   "execution_count": 14,
   "metadata": {},
   "outputs": [
    {
     "data": {
      "text/html": [
       "<div>\n",
       "<style scoped>\n",
       "    .dataframe tbody tr th:only-of-type {\n",
       "        vertical-align: middle;\n",
       "    }\n",
       "\n",
       "    .dataframe tbody tr th {\n",
       "        vertical-align: top;\n",
       "    }\n",
       "\n",
       "    .dataframe thead th {\n",
       "        text-align: right;\n",
       "    }\n",
       "</style>\n",
       "<table border=\"1\" class=\"dataframe\">\n",
       "  <thead>\n",
       "    <tr style=\"text-align: right;\">\n",
       "      <th></th>\n",
       "      <th>day</th>\n",
       "      <th>month</th>\n",
       "      <th>year</th>\n",
       "      <th>Temperature</th>\n",
       "      <th>RH</th>\n",
       "      <th>Ws</th>\n",
       "      <th>Rain</th>\n",
       "      <th>FFMC</th>\n",
       "      <th>DMC</th>\n",
       "      <th>DC</th>\n",
       "      <th>ISI</th>\n",
       "      <th>BUI</th>\n",
       "      <th>FWI</th>\n",
       "      <th>Classes</th>\n",
       "    </tr>\n",
       "  </thead>\n",
       "  <tbody>\n",
       "    <tr>\n",
       "      <th>122</th>\n",
       "      <td>Sidi-Bel Abbes Region Dataset</td>\n",
       "      <td>NaN</td>\n",
       "      <td>NaN</td>\n",
       "      <td>NaN</td>\n",
       "      <td>NaN</td>\n",
       "      <td>NaN</td>\n",
       "      <td>NaN</td>\n",
       "      <td>NaN</td>\n",
       "      <td>NaN</td>\n",
       "      <td>NaN</td>\n",
       "      <td>NaN</td>\n",
       "      <td>NaN</td>\n",
       "      <td>NaN</td>\n",
       "      <td>NaN</td>\n",
       "    </tr>\n",
       "    <tr>\n",
       "      <th>123</th>\n",
       "      <td>day</td>\n",
       "      <td>month</td>\n",
       "      <td>year</td>\n",
       "      <td>Temperature</td>\n",
       "      <td>RH</td>\n",
       "      <td>Ws</td>\n",
       "      <td>Rain</td>\n",
       "      <td>FFMC</td>\n",
       "      <td>DMC</td>\n",
       "      <td>DC</td>\n",
       "      <td>ISI</td>\n",
       "      <td>BUI</td>\n",
       "      <td>FWI</td>\n",
       "      <td>Classes</td>\n",
       "    </tr>\n",
       "  </tbody>\n",
       "</table>\n",
       "</div>"
      ],
      "text/plain": [
       "                               day  month  year  Temperature   RH   Ws  Rain   \\\n",
       "122  Sidi-Bel Abbes Region Dataset    NaN   NaN          NaN  NaN  NaN    NaN   \n",
       "123                            day  month  year  Temperature   RH   Ws  Rain    \n",
       "\n",
       "     FFMC  DMC   DC  ISI  BUI  FWI  Classes    \n",
       "122   NaN  NaN  NaN  NaN  NaN  NaN        NaN  \n",
       "123  FFMC  DMC   DC  ISI  BUI  FWI  Classes    "
      ]
     },
     "execution_count": 14,
     "metadata": {},
     "output_type": "execute_result"
    }
   ],
   "source": [
    "df.iloc[122:124,:]"
   ]
  },
  {
   "cell_type": "code",
   "execution_count": 15,
   "metadata": {},
   "outputs": [],
   "source": [
    "df.drop([122,123], axis=0, inplace=True)"
   ]
  },
  {
   "cell_type": "code",
   "execution_count": 25,
   "metadata": {},
   "outputs": [],
   "source": [
    "import os \n",
    "from app_util.util import read_yaml_file\n",
    "ROOT_DIR = os.getcwd()\n",
    "CONFIG_DIR = \"config\"\n",
    "DATABASE_CONFIG_FILE_NAME = \"database_config.yml\"\n",
    "DATABASE_CONFIG_FILE_PATH = os.path.join(ROOT_DIR, CONFIG_DIR, DATABASE_CONFIG_FILE_NAME)\n",
    "DATA_BASE_CONFIG = read_yaml_file(DATABASE_CONFIG_FILE_PATH)"
   ]
  },
  {
   "cell_type": "code",
   "execution_count": 1,
   "metadata": {},
   "outputs": [],
   "source": [
    "from app_src.stage_00_data_ingestion import DataIngestion\n",
    "from app_config.configuration import AppConfiguration"
   ]
  },
  {
   "cell_type": "code",
   "execution_count": 2,
   "metadata": {},
   "outputs": [
    {
     "name": "stderr",
     "output_type": "stream",
     "text": [
      "Training Pipeline Config: TrainingPipelineConfig(artifact_dir='/home/pk/Desktop/ML Project/Forest-Fire/FOREST_FIRE/artifact')\n"
     ]
    }
   ],
   "source": [
    "APP_config  = AppConfiguration()"
   ]
  },
  {
   "cell_type": "code",
   "execution_count": 3,
   "metadata": {},
   "outputs": [
    {
     "name": "stderr",
     "output_type": "stream",
     "text": [
      "Data Ingestion Config: DatasetConfig(dataset_download_url='https://archive.ics.uci.edu/ml/machine-learning-databases/00547/Algerian_forest_fires_dataset_UPDATE.csv', raw_data_dir='app_artifacts/data_ingestion/2022-06-01-15/raw_data', ingested_train_dir='app_artifacts/data_ingestion/2022-06-01-15/ingested_data/train', ingested_test_dir='app_artifacts/data_ingestion/2022-06-01-15/ingested_data/test', raw_data_collection=<app_database.mongoDB.MongoDB object at 0x7f6524bec950>, ingested_train_collection=<app_database.mongoDB.MongoDB object at 0x7f6524bf4090>, ingested_test_collection=<app_database.mongoDB.MongoDB object at 0x7f6524a57c10>)\n",
      "====================Data Ingestion log started.==================== \n"
     ]
    }
   ],
   "source": [
    "\n",
    "X = DataIngestion(APP_config.get_data_ingestion_config())"
   ]
  },
  {
   "cell_type": "code",
   "execution_count": 4,
   "metadata": {},
   "outputs": [
    {
     "name": "stderr",
     "output_type": "stream",
     "text": [
      "Downloading housing data from https://archive.ics.uci.edu/ml/machine-learning-databases/00547/Algerian_forest_fires_dataset_UPDATE.csv into file app_artifacts/data_ingestion/2022-06-01-15/raw_data/Algerian_forest_fires_dataset_UPDATE.csv\n",
      "Downloaded housing data from https://archive.ics.uci.edu/ml/machine-learning-databases/00547/Algerian_forest_fires_dataset_UPDATE.csv into file app_artifacts/data_ingestion/2022-06-01-15/raw_data/Algerian_forest_fires_dataset_UPDATE.csv\n",
      "Reading csv file: [app_artifacts/data_ingestion/2022-06-01-15/raw_data/Algerian_forest_fires_dataset_UPDATE.csv]\n",
      "Splitting data into train and test\n",
      "Region1 is : Bejaia Region Dataset\n",
      "Region2 is : Sidi-Bel Abbes Region Dataset\n",
      "Exporting training datset to file: [app_artifacts/data_ingestion/2022-06-01-15/ingested_data/train/Algerian_forest_fires_dataset_UPDATE.csv]\n",
      "Exporting test dataset to file: [app_artifacts/data_ingestion/2022-06-01-15/ingested_data/test/Algerian_forest_fires_dataset_UPDATE.csv]\n",
      "Data Ingestion artifact:[DataIngestionArtifact(train_file_path='app_artifacts/data_ingestion/2022-06-01-15/ingested_data/train/Algerian_forest_fires_dataset_UPDATE.csv', test_file_path='app_artifacts/data_ingestion/2022-06-01-15/ingested_data/test/Algerian_forest_fires_dataset_UPDATE.csv', is_ingested=True, message='Data Ingestion completed and data set has been splited into train and test')]\n"
     ]
    },
    {
     "data": {
      "text/plain": [
       "DataIngestionArtifact(train_file_path='app_artifacts/data_ingestion/2022-06-01-15/ingested_data/train/Algerian_forest_fires_dataset_UPDATE.csv', test_file_path='app_artifacts/data_ingestion/2022-06-01-15/ingested_data/test/Algerian_forest_fires_dataset_UPDATE.csv', is_ingested=True, message='Data Ingestion completed and data set has been splited into train and test')"
      ]
     },
     "execution_count": 4,
     "metadata": {},
     "output_type": "execute_result"
    }
   ],
   "source": [
    "X.initiate_data_ingestion()"
   ]
  },
  {
   "cell_type": "code",
   "execution_count": null,
   "metadata": {},
   "outputs": [],
   "source": []
  }
 ],
 "metadata": {
  "kernelspec": {
   "display_name": "Python 3.7.13 ('forest')",
   "language": "python",
   "name": "python3"
  },
  "language_info": {
   "codemirror_mode": {
    "name": "ipython",
    "version": 3
   },
   "file_extension": ".py",
   "mimetype": "text/x-python",
   "name": "python",
   "nbconvert_exporter": "python",
   "pygments_lexer": "ipython3",
   "version": "3.7.13"
  },
  "orig_nbformat": 4,
  "vscode": {
   "interpreter": {
    "hash": "c892c4affe220bd84748972954bb576977be7e757f3740b8c97bc97938f652a8"
   }
  }
 },
 "nbformat": 4,
 "nbformat_minor": 2
}
