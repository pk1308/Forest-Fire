{
  "cells": [
    {
      "cell_type": "code",
      "execution_count": 1,
      "metadata": {
        "id": "8uPUsUVC0rMq"
      },
      "outputs": [],
      "source": [
        "import pandas as pd\n",
        "import os \n",
        "import matplotlib.pyplot as plt\n",
        "import numpy as np\n",
        "\n",
        "from APP_Constants import APP_constants as CN\n",
        "from APP_logger.app_logger import APP_Logger\n",
        "from APP_utils.common_utils import reduce_memory_usage , Read_data_MONGO , profile_report_\n",
        "from APP_Database_operations.mongodb_operations import MongoDB\n",
        "\n",
        "\n",
        "from sklearn.model_selection import GridSearchCV\n",
        "from sklearn.model_selection import train_test_split\n",
        "\n",
        "from sklearn.ensemble import RandomForestClassifier\n",
        "from sklearn.linear_model import LogisticRegression\n",
        "from sklearn.svm import SVC\n",
        "from sklearn.ensemble import GradientBoostingClassifier\n",
        "from sklearn.tree import DecisionTreeClassifier\n",
        "from sklearn.neighbors import KNeighborsClassifier\n",
        "\n",
        "\n",
        "import pickle"
      ]
    },
    {
      "cell_type": "code",
      "execution_count": 2,
      "metadata": {
        "id": "yGcgrJge0rMx"
      },
      "outputs": [
        {
          "name": "stderr",
          "output_type": "stream",
          "text": [
            "Reading the data from the database\n",
            "Dataframe created successfully\n"
          ]
        }
      ],
      "source": [
        "MONGO_DB =CN.MONGO_DB_NAME \n",
        "PROCESSED_COLLECTION=CN.MONGO_PROCESSED_COLLECTION \n",
        "Conn_obj_Processed = MongoDB( MONGO_DB , PROCESSED_COLLECTION)\n",
        "processed_data_df = Read_data_MONGO(Conn_obj_Processed , Del_id = True)"
      ]
    },
    {
      "cell_type": "code",
      "execution_count": 3,
      "metadata": {
        "colab": {
          "base_uri": "https://localhost:8080/"
        },
        "id": "6UVGBeGd0rMy",
        "outputId": "2462dbed-7a75-4ed8-e8dc-13c9a6b96c76"
      },
      "outputs": [
        {
          "name": "stderr",
          "output_type": "stream",
          "text": [
            "Memory usage decreased from 0.03MB to 0.01MB (0.02MB, 68.96% reduction)\n"
          ]
        }
      ],
      "source": [
        "processed_data_df = reduce_memory_usage(processed_data_df)"
      ]
    },
    {
      "cell_type": "code",
      "execution_count": 4,
      "metadata": {
        "colab": {
          "base_uri": "https://localhost:8080/",
          "height": 270
        },
        "id": "XcpTYvbv0rMz",
        "outputId": "28773617-a3cb-4f58-c125-6f0133852932"
      },
      "outputs": [
        {
          "data": {
            "text/html": [
              "<div>\n",
              "<style scoped>\n",
              "    .dataframe tbody tr th:only-of-type {\n",
              "        vertical-align: middle;\n",
              "    }\n",
              "\n",
              "    .dataframe tbody tr th {\n",
              "        vertical-align: top;\n",
              "    }\n",
              "\n",
              "    .dataframe thead th {\n",
              "        text-align: right;\n",
              "    }\n",
              "</style>\n",
              "<table border=\"1\" class=\"dataframe\">\n",
              "  <thead>\n",
              "    <tr style=\"text-align: right;\">\n",
              "      <th></th>\n",
              "      <th>Temperature</th>\n",
              "      <th>RH</th>\n",
              "      <th>Ws</th>\n",
              "      <th>Rain</th>\n",
              "      <th>FFMC</th>\n",
              "      <th>DMC</th>\n",
              "      <th>DC</th>\n",
              "      <th>ISI</th>\n",
              "      <th>BUI</th>\n",
              "      <th>FWI</th>\n",
              "      <th>Classes</th>\n",
              "      <th>forest</th>\n",
              "    </tr>\n",
              "  </thead>\n",
              "  <tbody>\n",
              "    <tr>\n",
              "      <th>0</th>\n",
              "      <td>-0.920196</td>\n",
              "      <td>1.204630</td>\n",
              "      <td>-0.567430</td>\n",
              "      <td>0.223385</td>\n",
              "      <td>-2.134346</td>\n",
              "      <td>-1.017462</td>\n",
              "      <td>-0.879373</td>\n",
              "      <td>-1.083713</td>\n",
              "      <td>-0.996470</td>\n",
              "      <td>-0.942348</td>\n",
              "      <td>No Fire</td>\n",
              "      <td>1.010363</td>\n",
              "    </tr>\n",
              "    <tr>\n",
              "      <th>1</th>\n",
              "      <td>0.779975</td>\n",
              "      <td>-1.629712</td>\n",
              "      <td>-0.213471</td>\n",
              "      <td>-0.370594</td>\n",
              "      <td>0.997411</td>\n",
              "      <td>2.819631</td>\n",
              "      <td>1.965357</td>\n",
              "      <td>1.769359</td>\n",
              "      <td>2.553524</td>\n",
              "      <td>2.629802</td>\n",
              "      <td>Fire</td>\n",
              "      <td>1.010363</td>\n",
              "    </tr>\n",
              "    <tr>\n",
              "      <th>2</th>\n",
              "      <td>-0.920196</td>\n",
              "      <td>1.811989</td>\n",
              "      <td>-0.921390</td>\n",
              "      <td>-0.037966</td>\n",
              "      <td>-3.043566</td>\n",
              "      <td>-1.056536</td>\n",
              "      <td>-0.879373</td>\n",
              "      <td>-1.155639</td>\n",
              "      <td>-1.023621</td>\n",
              "      <td>-0.955676</td>\n",
              "      <td>No Fire</td>\n",
              "      <td>-0.989743</td>\n",
              "    </tr>\n",
              "    <tr>\n",
              "      <th>3</th>\n",
              "      <td>-0.070110</td>\n",
              "      <td>1.272114</td>\n",
              "      <td>0.494449</td>\n",
              "      <td>-0.370594</td>\n",
              "      <td>0.456209</td>\n",
              "      <td>0.459546</td>\n",
              "      <td>-0.174789</td>\n",
              "      <td>-0.028795</td>\n",
              "      <td>0.245689</td>\n",
              "      <td>0.070650</td>\n",
              "      <td>Fire</td>\n",
              "      <td>1.010363</td>\n",
              "    </tr>\n",
              "    <tr>\n",
              "      <th>4</th>\n",
              "      <td>1.063337</td>\n",
              "      <td>-0.549962</td>\n",
              "      <td>0.848409</td>\n",
              "      <td>-0.370594</td>\n",
              "      <td>0.802579</td>\n",
              "      <td>0.373582</td>\n",
              "      <td>1.218133</td>\n",
              "      <td>1.169975</td>\n",
              "      <td>0.693680</td>\n",
              "      <td>1.190279</td>\n",
              "      <td>Fire</td>\n",
              "      <td>-0.989743</td>\n",
              "    </tr>\n",
              "  </tbody>\n",
              "</table>\n",
              "</div>"
            ],
            "text/plain": [
              "   Temperature        RH        Ws      Rain      FFMC       DMC        DC  \\\n",
              "0    -0.920196  1.204630 -0.567430  0.223385 -2.134346 -1.017462 -0.879373   \n",
              "1     0.779975 -1.629712 -0.213471 -0.370594  0.997411  2.819631  1.965357   \n",
              "2    -0.920196  1.811989 -0.921390 -0.037966 -3.043566 -1.056536 -0.879373   \n",
              "3    -0.070110  1.272114  0.494449 -0.370594  0.456209  0.459546 -0.174789   \n",
              "4     1.063337 -0.549962  0.848409 -0.370594  0.802579  0.373582  1.218133   \n",
              "\n",
              "        ISI       BUI       FWI  Classes    forest  \n",
              "0 -1.083713 -0.996470 -0.942348  No Fire  1.010363  \n",
              "1  1.769359  2.553524  2.629802     Fire  1.010363  \n",
              "2 -1.155639 -1.023621 -0.955676  No Fire -0.989743  \n",
              "3 -0.028795  0.245689  0.070650     Fire  1.010363  \n",
              "4  1.169975  0.693680  1.190279     Fire -0.989743  "
            ]
          },
          "execution_count": 4,
          "metadata": {},
          "output_type": "execute_result"
        }
      ],
      "source": [
        "processed_data_df.head()"
      ]
    },
    {
      "cell_type": "code",
      "execution_count": 5,
      "metadata": {
        "id": "VSbUVDLs0rM0"
      },
      "outputs": [],
      "source": [
        "X = processed_data_df[CN.Selected_Features_Columns]"
      ]
    },
    {
      "cell_type": "code",
      "execution_count": 6,
      "metadata": {
        "id": "5hY5rIRa0rM0"
      },
      "outputs": [],
      "source": [
        "y = processed_data_df[CN.Target_Column].map(lambda x: 1 if x == 'Fire' else 0)"
      ]
    },
    {
      "cell_type": "code",
      "execution_count": 7,
      "metadata": {
        "id": "1iUXsPMm0rM1"
      },
      "outputs": [],
      "source": [
        "Model_logger = APP_Logger(\"Model_Selection\")"
      ]
    },
    {
      "cell_type": "code",
      "execution_count": 8,
      "metadata": {
        "id": "f4BFfs8MAmQq"
      },
      "outputs": [],
      "source": [
        "Randomforest_Model = RandomForestClassifier(random_state=42)\n",
        "Svc_Model = SVC(random_state=42)\n",
        "Logistic_Model = LogisticRegression(random_state=42)\n",
        "DecisionTree_Model  = DecisionTreeClassifier(random_state=42)\n",
        "Knn_Model = KNeighborsClassifier()\n",
        "GradientBoost_Model = GradientBoostingClassifier(random_state=42)"
      ]
    },
    {
      "cell_type": "code",
      "execution_count": 17,
      "metadata": {
        "id": "LBSFvIxNR3dF"
      },
      "outputs": [],
      "source": [
        "Randomforest_param = {}\n",
        "Randomforest_param['n_estimators'] = [50, 100 ,150]\n",
        "Randomforest_param['criterion'] = ['gini', 'entropy']\n",
        "Randomforest_param['max_features'] = ['auto', 'sqrt', 'log2']\n",
        "Randomforest_param['max_leaf_nodes'] = np.arange(2,10)\n",
        "Randomforest_param['bootstrap'] = [True, False]\n",
        "\n",
        "\n",
        "\n",
        "Svc_param = {}\n",
        "Svc_param['C'] = np.arange(0.1,10 , 0.5)\n",
        "Svc_param['kernel'] = ['linear', 'poly', 'rbf', 'sigmoid']\n",
        "Svc_param['shrinking'] = [True, False]\n",
        "Svc_param['probability'] = [True, False]\n",
        "\n",
        "\n",
        "\n",
        "Logistic_param = {}\n",
        "Logistic_param['penalty'] = ['l1', 'l2']\n",
        "Logistic_param['C'] = np.arange(0.1,10 ,0.5)\n",
        "\n",
        "\n",
        "\n",
        "DecisionTree_param = {}\n",
        "DecisionTree_param['criterion'] = ['gini', 'entropy']\n",
        "DecisionTree_param['splitter'] = ['best', 'random']\n",
        "DecisionTree_param['max_depth'] = np.arange(3,10)\n",
        "DecisionTree_param['min_samples_split'] = np.arange(2,10)\n",
        "DecisionTree_param['min_samples_leaf'] = np.arange(1,5)\n",
        "DecisionTree_param['max_features'] = ['auto', 'sqrt', 'log2']\n",
        "DecisionTree_param['max_leaf_nodes'] = np.arange(2,10)\n",
        "\n",
        "\n",
        "Knn_param = {}\n",
        "Knn_param['n_neighbors'] = np.arange(2,10)\n",
        "Knn_param['weights'] = ['uniform', 'distance']\n",
        "Knn_param['algorithm'] = ['auto', 'ball_tree', 'kd_tree', 'brute']\n",
        "Knn_param['leaf_size'] = np.arange(2,10)\n",
        "\n",
        "\n",
        "\n",
        "GradientBoost_param = {}\n",
        "GradientBoost_param['learning_rate'] = np.arange(0.1,10 ,0.5)\n",
        "GradientBoost_param['n_estimators'] = [50,100]\n",
        "GradientBoost_param['max_features'] = ['auto', 'sqrt', 'log2']\n",
        "\n",
        "\n",
        "# Create the parameter grid\n",
        "Randomforest_grid = GridSearchCV(Randomforest_Model, Randomforest_param, cv=2, n_jobs=-1, scoring='accuracy' , verbose = 2)\n",
        "Svc_grid = GridSearchCV(Svc_Model, Svc_param, cv=2, n_jobs=-1, scoring='accuracy', verbose = 3)\n",
        "Logistic_grid = GridSearchCV(Logistic_Model, Logistic_param, cv=2, n_jobs=-1, scoring='accuracy', verbose = 2)\n",
        "DecisionTree_grid = GridSearchCV(DecisionTree_Model, DecisionTree_param, cv=2, n_jobs=-1, scoring='accuracy', verbose = 2)\n",
        "Knn_grid = GridSearchCV(Knn_Model, Knn_param, cv=2, n_jobs=-1, scoring='accuracy', verbose = 2)\n",
        "GradientBoost_grid = GridSearchCV(GradientBoost_Model, GradientBoost_param, cv=2, n_jobs=-1, scoring='accuracy', verbose = 2)\n",
        "\n",
        "X_train, X_test, y_train, y_test = train_test_split(X, y, test_size=0.2, random_state=42)\n"
      ]
    },
    {
      "cell_type": "code",
      "execution_count": 22,
      "metadata": {
        "colab": {
          "base_uri": "https://localhost:8080/"
        },
        "id": "utjIZyRoTshy",
        "outputId": "8824840d-bcdd-46e1-f07f-8d33a21d43e2"
      },
      "outputs": [
        {
          "name": "stdout",
          "output_type": "stream",
          "text": [
            "Fitting 2 folds for each of 288 candidates, totalling 576 fits\n"
          ]
        },
        {
          "name": "stderr",
          "output_type": "stream",
          "text": [
            "Randomforest_grid.best_params_: {'bootstrap': False, 'criterion': 'gini', 'max_features': 'auto', 'max_leaf_nodes': 2, 'n_estimators': 100}\n",
            "Randomforest_grid.best_score_: 0.9870962370962371\n",
            "Randomforest_grid.best_estimator_: RandomForestClassifier(bootstrap=False, max_leaf_nodes=2, random_state=42)\n",
            "Randomforest_grid.score: 0.9743589743589743\n"
          ]
        }
      ],
      "source": [
        "Randomforest_grid.fit(X_train, y_train)\n",
        "Model_logger.info(\"Randomforest_grid.best_params_: {}\".format(Randomforest_grid.best_params_))\n",
        "Model_logger.info(\"Randomforest_grid.best_score_: {}\".format(Randomforest_grid.best_score_))\n",
        "Model_logger.info(\"Randomforest_grid.best_estimator_: {}\".format(Randomforest_grid.best_estimator_))\n",
        "\n",
        "Model_logger.info(\"Randomforest_grid.score: {}\".format(Randomforest_grid.score(X_test, y_test)))\n"
      ]
    },
    {
      "cell_type": "code",
      "execution_count": 16,
      "metadata": {
        "colab": {
          "base_uri": "https://localhost:8080/"
        },
        "id": "fZUbrzp4TvZq",
        "outputId": "9b8b78dc-d094-4fc7-d401-9cb614c4c4d9"
      },
      "outputs": [
        {
          "name": "stdout",
          "output_type": "stream",
          "text": [
            "Fitting 2 folds for each of 320 candidates, totalling 640 fits\n"
          ]
        },
        {
          "name": "stderr",
          "output_type": "stream",
          "text": [
            "Svc_grid.best_params_: {'C': 1.1, 'kernel': 'linear', 'probability': True, 'shrinking': True}\n",
            "Svc_grid.best_score_: 0.9806859806859807\n",
            "Svc_grid.best_estimator_: SVC(C=1.1, kernel='linear', probability=True, random_state=42)\n",
            "Svc_grid.score: 0.9487179487179487\n"
          ]
        }
      ],
      "source": [
        "Svc_grid.fit(X_train, y_train)\n",
        "Model_logger.info(\"Svc_grid.best_params_: {}\".format(Svc_grid.best_params_))\n",
        "Model_logger.info(\"Svc_grid.best_score_: {}\".format(Svc_grid.best_score_))\n",
        "Model_logger.info(\"Svc_grid.best_estimator_: {}\".format(Svc_grid.best_estimator_))\n",
        "\n",
        "Model_logger.info(\"Svc_grid.score: {}\".format(Svc_grid.score(X_test, y_test)))"
      ]
    },
    {
      "cell_type": "code",
      "execution_count": 20,
      "metadata": {
        "colab": {
          "base_uri": "https://localhost:8080/"
        },
        "id": "cdKVVcZAT506",
        "outputId": "80670315-e627-4bd5-9e8e-25a8b4b61e0d"
      },
      "outputs": [
        {
          "name": "stdout",
          "output_type": "stream",
          "text": [
            "Fitting 2 folds for each of 40 candidates, totalling 80 fits\n"
          ]
        },
        {
          "name": "stderr",
          "output_type": "stream",
          "text": [
            "/usr/local/lib/python3.7/dist-packages/sklearn/model_selection/_validation.py:372: FitFailedWarning: \n",
            "40 fits failed out of a total of 80.\n",
            "The score on these train-test partitions for these parameters will be set to nan.\n",
            "If these failures are not expected, you can try to debug them by setting error_score='raise'.\n",
            "\n",
            "Below are more details about the failures:\n",
            "--------------------------------------------------------------------------------\n",
            "40 fits failed with the following error:\n",
            "Traceback (most recent call last):\n",
            "  File \"/usr/local/lib/python3.7/dist-packages/sklearn/model_selection/_validation.py\", line 680, in _fit_and_score\n",
            "    estimator.fit(X_train, y_train, **fit_params)\n",
            "  File \"/usr/local/lib/python3.7/dist-packages/sklearn/linear_model/_logistic.py\", line 1461, in fit\n",
            "    solver = _check_solver(self.solver, self.penalty, self.dual)\n",
            "  File \"/usr/local/lib/python3.7/dist-packages/sklearn/linear_model/_logistic.py\", line 449, in _check_solver\n",
            "    % (solver, penalty)\n",
            "ValueError: Solver lbfgs supports only 'l2' or 'none' penalties, got l1 penalty.\n",
            "\n",
            "  warnings.warn(some_fits_failed_message, FitFailedWarning)\n",
            "/usr/local/lib/python3.7/dist-packages/sklearn/model_selection/_search.py:972: UserWarning: One or more of the test scores are non-finite: [       nan 0.94205794        nan 0.9484682         nan 0.96145521\n",
            "        nan 0.96145521        nan 0.96145521        nan 0.96786547\n",
            "        nan 0.96786547        nan 0.96786547        nan 0.96786547\n",
            "        nan 0.96786547        nan 0.96786547        nan 0.96786547\n",
            "        nan 0.96786547        nan 0.96786547        nan 0.96786547\n",
            "        nan 0.96786547        nan 0.96786547        nan 0.96786547\n",
            "        nan 0.96786547        nan 0.96786547]\n",
            "  category=UserWarning,\n",
            "Logistic_grid.best_params_: {'C': 2.6, 'penalty': 'l2'}\n",
            "Logistic_grid.best_score_: 0.9678654678654679\n",
            "Logistic_grid.best_estimator_: LogisticRegression(C=2.6, random_state=42)\n",
            "Logistic_grid.score: 0.9487179487179487\n"
          ]
        }
      ],
      "source": [
        "Logistic_grid.fit(X_train, y_train)\n",
        "Model_logger.info(\"Logistic_grid.best_params_: {}\".format(Logistic_grid.best_params_))\n",
        "Model_logger.info(\"Logistic_grid.best_score_: {}\".format(Logistic_grid.best_score_))\n",
        "Model_logger.info(\"Logistic_grid.best_estimator_: {}\".format(Logistic_grid.best_estimator_))\n",
        "\n",
        "Model_logger.info(\"Logistic_grid.score: {}\".format(Logistic_grid.score(X_test, y_test)))"
      ]
    },
    {
      "cell_type": "code",
      "execution_count": 21,
      "metadata": {
        "colab": {
          "base_uri": "https://localhost:8080/"
        },
        "id": "gBqCgnI1T8fa",
        "outputId": "6b62a3a6-4bee-4f7a-eb5c-03fc71a27b81"
      },
      "outputs": [
        {
          "name": "stdout",
          "output_type": "stream",
          "text": [
            "Fitting 2 folds for each of 21504 candidates, totalling 43008 fits\n"
          ]
        },
        {
          "name": "stderr",
          "output_type": "stream",
          "text": [
            "DecisionTree_grid.best_params_: {'criterion': 'gini', 'max_depth': 3, 'max_features': 'auto', 'max_leaf_nodes': 3, 'min_samples_leaf': 1, 'min_samples_split': 2, 'splitter': 'best'}\n",
            "DecisionTree_grid.best_score_: 0.9742757242757243\n",
            "DecisionTree_grid.best_estimator_: DecisionTreeClassifier(max_depth=3, max_features='auto', max_leaf_nodes=3,\n",
            "                       random_state=42)\n",
            "DecisionTree_grid.score: 0.9230769230769231\n"
          ]
        }
      ],
      "source": [
        "DecisionTree_grid.fit(X_train, y_train)\n",
        "Model_logger.info(\"DecisionTree_grid.best_params_: {}\".format(DecisionTree_grid.best_params_))\n",
        "Model_logger.info(\"DecisionTree_grid.best_score_: {}\".format(DecisionTree_grid.best_score_))\n",
        "Model_logger.info(\"DecisionTree_grid.best_estimator_: {}\".format(DecisionTree_grid.best_estimator_))\n",
        "\n",
        "Model_logger.info(\"DecisionTree_grid.score: {}\".format(DecisionTree_grid.score(X_test, y_test)))"
      ]
    },
    {
      "cell_type": "code",
      "execution_count": 22,
      "metadata": {
        "colab": {
          "base_uri": "https://localhost:8080/"
        },
        "id": "GqttS0htT_yD",
        "outputId": "8e96eae7-61da-4267-d23e-742bb2087ed6"
      },
      "outputs": [
        {
          "name": "stdout",
          "output_type": "stream",
          "text": [
            "Fitting 2 folds for each of 512 candidates, totalling 1024 fits\n"
          ]
        },
        {
          "name": "stderr",
          "output_type": "stream",
          "text": [
            "Knn_grid.best_params_: {'algorithm': 'auto', 'leaf_size': 2, 'n_neighbors': 3, 'weights': 'uniform'}\n",
            "Knn_grid.best_score_: 0.9806859806859807\n",
            "Knn_grid.best_estimator_: KNeighborsClassifier(leaf_size=2, n_neighbors=3)\n",
            "Knn_grid.score: 0.9487179487179487\n"
          ]
        }
      ],
      "source": [
        "Knn_grid.fit(X_train, y_train)\n",
        "Model_logger.info(\"Knn_grid.best_params_: {}\".format(Knn_grid.best_params_))\n",
        "Model_logger.info(\"Knn_grid.best_score_: {}\".format(Knn_grid.best_score_))\n",
        "Model_logger.info(\"Knn_grid.best_estimator_: {}\".format(Knn_grid.best_estimator_))\n",
        "\n",
        "Model_logger.info(\"Knn_grid.score: {}\".format(Knn_grid.score(X_test, y_test)))"
      ]
    },
    {
      "cell_type": "code",
      "execution_count": 18,
      "metadata": {
        "colab": {
          "base_uri": "https://localhost:8080/"
        },
        "id": "_K3wv_cjUC3a",
        "outputId": "0aabae1b-5e87-4a4d-d5c8-eef29dc267cc"
      },
      "outputs": [
        {
          "name": "stdout",
          "output_type": "stream",
          "text": [
            "Fitting 2 folds for each of 120 candidates, totalling 240 fits\n"
          ]
        },
        {
          "name": "stderr",
          "output_type": "stream",
          "text": [
            "GradientBoost_grid.best_params_: {'learning_rate': 6.1, 'max_features': 'sqrt', 'n_estimators': 50}\n",
            "GradientBoost_grid.best_score_: 0.9870962370962371\n",
            "GradientBoost_grid.best_estimator_: GradientBoostingClassifier(learning_rate=6.1, max_features='sqrt',\n",
            "                           n_estimators=50, random_state=42)\n",
            "GradientBoost_grid.score: 0.9487179487179487\n"
          ]
        }
      ],
      "source": [
        "GradientBoost_grid.fit(X_train, y_train)\n",
        "Model_logger.info(\"GradientBoost_grid.best_params_: {}\".format(GradientBoost_grid.best_params_))\n",
        "Model_logger.info(\"GradientBoost_grid.best_score_: {}\".format(GradientBoost_grid.best_score_))\n",
        "Model_logger.info(\"GradientBoost_grid.best_estimator_: {}\".format(GradientBoost_grid.best_estimator_))\n",
        "\n",
        "Model_logger.info(\"GradientBoost_grid.score: {}\".format(GradientBoost_grid.score(X_test, y_test)))"
      ]
    },
    {
      "cell_type": "code",
      "execution_count": 9,
      "metadata": {
        "id": "ffQuCvzwUKHI"
      },
      "outputs": [],
      "source": [
        "Randomforest_Model = RandomForestClassifier(bootstrap = False, criterion= 'gini', max_features = 'auto', max_leaf_nodes =  2, n_estimators =  100)"
      ]
    },
    {
      "cell_type": "code",
      "execution_count": 10,
      "metadata": {},
      "outputs": [
        {
          "data": {
            "text/plain": [
              "RandomForestClassifier(bootstrap=False, max_leaf_nodes=2)"
            ]
          },
          "execution_count": 10,
          "metadata": {},
          "output_type": "execute_result"
        }
      ],
      "source": [
        "Randomforest_Model.fit(X, y)"
      ]
    },
    {
      "cell_type": "code",
      "execution_count": 11,
      "metadata": {},
      "outputs": [
        {
          "name": "stderr",
          "output_type": "stream",
          "text": [
            "Reading the data from the database\n",
            "Dataframe created successfully\n"
          ]
        }
      ],
      "source": [
        "MONGO_DB =CN.MONGO_DB_NAME \n",
        "TEST_COLLECTION=CN.MONGO_TEST_COLLECTION\n",
        "Conn_obj_Test = MongoDB( MONGO_DB , TEST_COLLECTION)\n",
        "Test_data_df = Read_data_MONGO(Conn_obj_Test , Del_id = True)"
      ]
    },
    {
      "cell_type": "code",
      "execution_count": 12,
      "metadata": {},
      "outputs": [
        {
          "name": "stderr",
          "output_type": "stream",
          "text": [
            "Memory usage decreased from 0.01MB to 0.00MB (0.01MB, 76.54% reduction)\n"
          ]
        }
      ],
      "source": [
        "Test_data_df = reduce_memory_usage(Test_data_df)"
      ]
    },
    {
      "cell_type": "code",
      "execution_count": 13,
      "metadata": {},
      "outputs": [
        {
          "name": "stdout",
          "output_type": "stream",
          "text": [
            "<class 'pandas.core.frame.DataFrame'>\n",
            "RangeIndex: 49 entries, 0 to 48\n",
            "Data columns (total 15 columns):\n",
            " #   Column       Non-Null Count  Dtype   \n",
            "---  ------       --------------  -----   \n",
            " 0   day          49 non-null     int8    \n",
            " 1   month        49 non-null     int8    \n",
            " 2   year         49 non-null     int16   \n",
            " 3   Temperature  49 non-null     float32 \n",
            " 4   RH           49 non-null     float32 \n",
            " 5   Ws           49 non-null     float32 \n",
            " 6   Rain         49 non-null     float32 \n",
            " 7   FFMC         49 non-null     float32 \n",
            " 8   DMC          49 non-null     float32 \n",
            " 9   DC           49 non-null     float32 \n",
            " 10  ISI          49 non-null     float32 \n",
            " 11  BUI          49 non-null     float32 \n",
            " 12  FWI          49 non-null     float32 \n",
            " 13  Classes      49 non-null     category\n",
            " 14  forest       49 non-null     category\n",
            "dtypes: category(2), float32(10), int16(1), int8(2)\n",
            "memory usage: 2.6 KB\n"
          ]
        }
      ],
      "source": [
        "Test_data_df.info()"
      ]
    },
    {
      "cell_type": "code",
      "execution_count": 14,
      "metadata": {},
      "outputs": [],
      "source": [
        "data =  Test_data_df.copy()"
      ]
    },
    {
      "cell_type": "code",
      "execution_count": 15,
      "metadata": {},
      "outputs": [],
      "source": [
        "categorical_columns =data.select_dtypes(include=['category']).columns"
      ]
    },
    {
      "cell_type": "code",
      "execution_count": 16,
      "metadata": {},
      "outputs": [],
      "source": [
        "data[categorical_columns] =  data[categorical_columns].apply(lambda x: x.cat.codes)"
      ]
    },
    {
      "cell_type": "code",
      "execution_count": 17,
      "metadata": {},
      "outputs": [],
      "source": [
        "scaler = pickle.load(open('Artifacts/SCALER_DIR/2022-05-30_scaler.pkl', 'rb'))"
      ]
    },
    {
      "cell_type": "code",
      "execution_count": 18,
      "metadata": {},
      "outputs": [],
      "source": [
        "data.drop(['day' , 'month' , 'year'], axis=1, inplace=True)"
      ]
    },
    {
      "cell_type": "code",
      "execution_count": 19,
      "metadata": {},
      "outputs": [],
      "source": [
        "data[data.columns] = scaler.transform(data[data.columns])"
      ]
    },
    {
      "cell_type": "code",
      "execution_count": 20,
      "metadata": {},
      "outputs": [],
      "source": [
        "X_test = data[CN.Selected_Features_Columns]"
      ]
    },
    {
      "cell_type": "code",
      "execution_count": 21,
      "metadata": {},
      "outputs": [],
      "source": [
        "y_test = Test_data_df[CN.Target_Column]"
      ]
    },
    {
      "cell_type": "code",
      "execution_count": 22,
      "metadata": {},
      "outputs": [],
      "source": [
        "Y_pred = Randomforest_Model.predict(X_test)"
      ]
    },
    {
      "cell_type": "code",
      "execution_count": 23,
      "metadata": {},
      "outputs": [],
      "source": [
        "from sklearn.metrics import accuracy_score"
      ]
    },
    {
      "cell_type": "code",
      "execution_count": 24,
      "metadata": {},
      "outputs": [],
      "source": [
        "y_test = y_test.map(lambda x: 1 if x == \"Fire\" else 0)"
      ]
    },
    {
      "cell_type": "code",
      "execution_count": 26,
      "metadata": {},
      "outputs": [
        {
          "data": {
            "text/plain": [
              "1.0"
            ]
          },
          "execution_count": 26,
          "metadata": {},
          "output_type": "execute_result"
        }
      ],
      "source": [
        "accuracy_score(y_test, Y_pred)"
      ]
    },
    {
      "cell_type": "code",
      "execution_count": 27,
      "metadata": {},
      "outputs": [
        {
          "data": {
            "text/plain": [
              "0.9742268041237113"
            ]
          },
          "execution_count": 27,
          "metadata": {},
          "output_type": "execute_result"
        }
      ],
      "source": [
        "Randomforest_Model.score(X, y)"
      ]
    },
    {
      "cell_type": "code",
      "execution_count": 28,
      "metadata": {},
      "outputs": [],
      "source": [
        "pickle.dump(Randomforest_Model, open('Artifacts/MODEL_DIR/Randomforest_Model.pkl', 'wb'))"
      ]
    },
    {
      "cell_type": "code",
      "execution_count": null,
      "metadata": {},
      "outputs": [],
      "source": []
    }
  ],
  "metadata": {
    "accelerator": "GPU",
    "colab": {
      "collapsed_sections": [],
      "machine_shape": "hm",
      "name": "Model_selction.ipynb",
      "provenance": []
    },
    "kernelspec": {
      "display_name": "Python 3.9.7 ('base')",
      "language": "python",
      "name": "python3"
    },
    "language_info": {
      "codemirror_mode": {
        "name": "ipython",
        "version": 3
      },
      "file_extension": ".py",
      "mimetype": "text/x-python",
      "name": "python",
      "nbconvert_exporter": "python",
      "pygments_lexer": "ipython3",
      "version": "3.9.7"
    },
    "orig_nbformat": 4,
    "vscode": {
      "interpreter": {
        "hash": "e747c23ad84bd2d0d19cfad0a72b775aaed6f49f767ddbc5bd094fd76b478967"
      }
    }
  },
  "nbformat": 4,
  "nbformat_minor": 0
}
