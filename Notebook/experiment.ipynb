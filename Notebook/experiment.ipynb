{
 "cells": [
  {
   "cell_type": "code",
   "execution_count": 2,
   "metadata": {},
   "outputs": [],
   "source": [
    "from SRC.stage_00_DataIngestion import DataIngestion\n",
    "from SRC.stage_01_data_transformation import Load_and_transform"
   ]
  },
  {
   "cell_type": "code",
   "execution_count": null,
   "metadata": {},
   "outputs": [],
   "source": []
  },
  {
   "cell_type": "code",
   "execution_count": 3,
   "metadata": {},
   "outputs": [
    {
     "name": "stderr",
     "output_type": "stream",
     "text": [
      "Data Injection Started\n",
      "Downloading the data\n",
      "Data downloaded successfully\n",
      "Reading the data\n",
      "Raw data file is : /home/pk/Desktop/Eda/Algerian_forest_fires_dataset/Artifacts/RAW_DATA/Algerian_forest_fires_dataset_UPDATE.csv\n",
      "Dataframe created successfully\n",
      "as there is same empty space in column name we will strip it\n",
      "Columns names are : ['day', 'month', 'year', 'Temperature', 'RH', 'Ws', 'Rain', 'FFMC', 'DMC', 'DC', 'ISI', 'BUI', 'FWI', 'Classes']\n",
      "Data dropped successfully\n",
      "Dropping the column name in Sidi-Bel Abbes Region Dataset\n",
      "Data type changed for column :  day object to int32\n",
      "Data type changed for column :  month object to int32\n",
      "Data type changed for column :  year object to int32\n",
      "Data type changed for column : Temperature  object to int32\n",
      "Data type changed for column :  RH object to int32\n",
      "Data type changed for column :  Wind_speed object to int32\n",
      "Data type changed for column :  Rain object to int32\n",
      "Data type changed for column :  FFMC object to int32\n",
      "Data type changed for column :  DMC object to int32\n",
      "Data type changed for column :  DC object to int32 as there is a empty space in the value we replace\n",
      "Data type changed for column :  ISI object to int32\n",
      "Data type changed for column :  BUI object to int32\n",
      "Data type changed for column :  FWI object to int32\n",
      "for fire columns we have a value which is fire so we will replace it with Nan167    fire   \n",
      "Name: FWI, dtype: object\n",
      "Lets split the data into different  region and create a two data frame and add the region indicator\n",
      "Region1 is : Bejaia Region Dataset\n",
      "Region2 is : Sidi-Bel Abbes Region Dataset\n",
      "Saving the data to the file : /home/pk/Desktop/Eda/Algerian_forest_fires_dataset/Artifacts/PREPROCESSING_DATA/PREPROCESSING_DATA.csv\n",
      "Data Injection Completed\n",
      "Data Injected successfully into the database ALGERIAN_FOREST_FIRES , collection PREPROCESSING_DATA\n",
      "Memory usage decreased from 0.05MB to 0.01MB (0.03MB, 71.70% reduction)\n",
      "Dataframe reduced successfully\n",
      "Data farme has 2 null values in the same line , the Reason is because the value was entered in the \n",
      "Dataframe shape is : (243, 15)\n",
      "We will standardize the  classes as \"No Fire\" if not in x.lower() else \"Fire\"\n",
      "Data splitted successfully\n",
      "Train set shape is : (194, 15)\n",
      "Test set shape is : (49, 15)\n",
      "Test data saved successfully\n",
      "Train data saved successfully\n",
      "Data Injected successfully into the database ALGERIAN_FOREST_FIRES , collection TRAIN_DATA\n",
      "Data Injected successfully into the database ALGERIAN_FOREST_FIRES , collection TEST_DATA\n"
     ]
    },
    {
     "data": {
      "text/plain": [
       "True"
      ]
     },
     "execution_count": 3,
     "metadata": {},
     "output_type": "execute_result"
    }
   ],
   "source": [
    "DataIngestion()"
   ]
  },
  {
   "cell_type": "code",
   "execution_count": 4,
   "metadata": {},
   "outputs": [
    {
     "name": "stderr",
     "output_type": "stream",
     "text": [
      "Loading Raw_data from MongoDB\n",
      "Dropped Collection : PROCEEDED_DATA\n",
      "Reading the data from the database\n",
      "Dataframe created successfully\n",
      "Loaded Raw_data from MongoDB as Dataframe\n",
      "Memory usage decreased from 0.05MB to 0.01MB (0.04MB, 80.21% reduction)\n",
      "Dropped columns : 'month' , 'year' , 'day' from Dataframe , as they are not significant\n",
      "Converted categorical columns to numerical columns\n",
      "Scaled Dataframe\n",
      "Saved scaler as pickle file/home/pk/Desktop/Eda/Algerian_forest_fires_dataset/Artifacts/SCALER_DIR\n",
      "Imputed Dataframe\n",
      "Saved imputer as pickle file/home/pk/Desktop/Eda/Algerian_forest_fires_dataset/Artifacts/IMPUTER_DIR\n",
      "Clipped Rain column\n",
      "Saved processed data as csv file in /home/pk/Desktop/Eda/Algerian_forest_fires_dataset/Artifacts/PROCEEDED_DATA\n",
      "Inserted processed data into MongoDB PROCEEDED_DATA\n"
     ]
    },
    {
     "data": {
      "text/plain": [
       "True"
      ]
     },
     "execution_count": 4,
     "metadata": {},
     "output_type": "execute_result"
    }
   ],
   "source": [
    "Load_and_transform()"
   ]
  }
 ],
 "metadata": {
  "kernelspec": {
   "display_name": "Python 3.9.7 ('base')",
   "language": "python",
   "name": "python3"
  },
  "language_info": {
   "codemirror_mode": {
    "name": "ipython",
    "version": 3
   },
   "file_extension": ".py",
   "mimetype": "text/x-python",
   "name": "python",
   "nbconvert_exporter": "python",
   "pygments_lexer": "ipython3",
   "version": "3.9.7"
  },
  "orig_nbformat": 4,
  "vscode": {
   "interpreter": {
    "hash": "e747c23ad84bd2d0d19cfad0a72b775aaed6f49f767ddbc5bd094fd76b478967"
   }
  }
 },
 "nbformat": 4,
 "nbformat_minor": 2
}
