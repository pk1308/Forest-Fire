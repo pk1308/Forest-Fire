{
 "cells": [
  {
   "cell_type": "code",
   "execution_count": 1,
   "metadata": {},
   "outputs": [],
   "source": [
    "from app_database.mongoDB import MongoDB"
   ]
  },
  {
   "cell_type": "code",
   "execution_count": 1,
   "metadata": {},
   "outputs": [],
   "source": [
    "from app_src.stage_00_data_ingestion import DataIngestion\n",
    "from app_config.configuration import AppConfiguration\n",
    "from app_src.stage_01_data_validation import DataValidation\n",
    "from app_src.stage_02_data_transformation import DataTransformation\n"
   ]
  },
  {
   "cell_type": "code",
   "execution_count": 2,
   "metadata": {},
   "outputs": [
    {
     "name": "stderr",
     "output_type": "stream",
     "text": [
      "Training Pipeline Config: TrainingPipelineConfig(artifact_dir='/home/pk/Desktop/ML Project/Forest-Fire/app_artifacts')\n"
     ]
    }
   ],
   "source": [
    "APP_config  = AppConfiguration()"
   ]
  },
  {
   "cell_type": "code",
   "execution_count": 3,
   "metadata": {},
   "outputs": [
    {
     "name": "stderr",
     "output_type": "stream",
     "text": [
      "Data Ingestion Config: DatasetConfig(dataset_download_url='https://archive.ics.uci.edu/ml/machine-learning-databases/00547/Algerian_forest_fires_dataset_UPDATE.csv', raw_data_dir='/home/pk/Desktop/ML Project/Forest-Fire/app_artifacts/raw_data', ingested_train_dir='/home/pk/Desktop/ML Project/Forest-Fire/app_artifacts/ingested_data/train', ingested_test_dir='/home/pk/Desktop/ML Project/Forest-Fire/app_artifacts/ingested_data/test', raw_data_collection=<app_database.mongoDB.MongoDB object at 0x7f3e981d6640>, ingested_train_collection=<app_database.mongoDB.MongoDB object at 0x7f3e98243f40>, ingested_test_collection=<app_database.mongoDB.MongoDB object at 0x7f3e960089a0>)\n",
      "====================Data Ingestion log started.==================== \n"
     ]
    }
   ],
   "source": [
    "data_injection = DataIngestion(APP_config.get_data_ingestion_config())"
   ]
  },
  {
   "cell_type": "code",
   "execution_count": 4,
   "metadata": {},
   "outputs": [
    {
     "name": "stderr",
     "output_type": "stream",
     "text": [
      "Downloading housing data from https://archive.ics.uci.edu/ml/machine-learning-databases/00547/Algerian_forest_fires_dataset_UPDATE.csv into file /home/pk/Desktop/ML Project/Forest-Fire/app_artifacts/raw_data/Algerian_forest_fires_dataset_UPDATE.csv\n",
      "Downloaded housing data from https://archive.ics.uci.edu/ml/machine-learning-databases/00547/Algerian_forest_fires_dataset_UPDATE.csv into file /home/pk/Desktop/ML Project/Forest-Fire/app_artifacts/raw_data/Algerian_forest_fires_dataset_UPDATE.csv\n",
      "Reading csv file: [/home/pk/Desktop/ML Project/Forest-Fire/app_artifacts/raw_data/Algerian_forest_fires_dataset_UPDATE.csv]\n",
      "Splitting data into train and test\n",
      "Region1 is : Bejaia Region Dataset\n",
      "Region2 is : Sidi-Bel Abbes Region Dataset\n",
      "Exporting training dataset to file: [/home/pk/Desktop/ML Project/Forest-Fire/app_artifacts/ingested_data/train/Algerian_forest_fires_dataset_UPDATE.csv]\n",
      "Exporting test dataset to file: [/home/pk/Desktop/ML Project/Forest-Fire/app_artifacts/ingested_data/test/Algerian_forest_fires_dataset_UPDATE.csv]\n",
      "Data Ingestion artifact:[DataIngestionArtifact(train_file_path='/home/pk/Desktop/ML Project/Forest-Fire/app_artifacts/ingested_data/train/Algerian_forest_fires_dataset_UPDATE.csv', test_file_path='/home/pk/Desktop/ML Project/Forest-Fire/app_artifacts/ingested_data/test/Algerian_forest_fires_dataset_UPDATE.csv', is_ingested=True, message='Data Ingestion completed and data set has been split into train and test')]\n"
     ]
    }
   ],
   "source": [
    "data_ingestion_artifact = data_injection.initiate_data_ingestion()"
   ]
  },
  {
   "cell_type": "code",
   "execution_count": 5,
   "metadata": {},
   "outputs": [
    {
     "name": "stderr",
     "output_type": "stream",
     "text": [
      "DataValidationConfig(schema_file_path='/home/pk/Desktop/ML Project/Forest-Fire/config/schema.yaml', Train_collection=<app_database.mongoDB.MongoDB object at 0x7f3e9470b310>, Test_collection=<app_database.mongoDB.MongoDB object at 0x7f3e94702c70>)\n"
     ]
    }
   ],
   "source": [
    "data_validation_config=APP_config.get_data_validation_config()"
   ]
  },
  {
   "cell_type": "code",
   "execution_count": 6,
   "metadata": {},
   "outputs": [
    {
     "name": "stderr",
     "output_type": "stream",
     "text": [
      "====================Data Validation log started.==================== \n"
     ]
    }
   ],
   "source": [
    "data_validation =  DataValidation(data_validation_config, data_ingestion_artifact)"
   ]
  },
  {
   "cell_type": "code",
   "execution_count": 7,
   "metadata": {},
   "outputs": [
    {
     "name": "stderr",
     "output_type": "stream",
     "text": [
      "Collection:'transformed_data_train' in Database:' does not exists OR \n",
      "        no documents are present in the collection\n",
      "collection not present in the database\n",
      "Collection:'transformed_data_test' in Database:' does not exists OR \n",
      "        no documents are present in the collection\n",
      "collection not present in the database\n",
      "Data Transformation Config: DataTransformationConfig(transformed_train_dir='/home/pk/Desktop/ML Project/Forest-Fire/app_artifacts/data_transformation/2022-06-02-14/transformed_data/train', transformed_test_dir='/home/pk/Desktop/ML Project/Forest-Fire/app_artifacts/data_transformation/2022-06-02-14/transformed_data/test', preprocessed_object_file_path='/home/pk/Desktop/ML Project/Forest-Fire/app_artifacts/data_transformation/2022-06-02-14/preprocessed/preprocessed.pkl', processed_train_collection=<app_database.mongoDB.MongoDB object at 0x7f3e9471ca60>, processed_test_collection=<app_database.mongoDB.MongoDB object at 0x7f3e9472b610>)\n"
     ]
    }
   ],
   "source": [
    "data_transformation_config = APP_config.get_data_transformation_config()"
   ]
  },
  {
   "cell_type": "code",
   "execution_count": null,
   "metadata": {},
   "outputs": [],
   "source": []
  },
  {
   "cell_type": "code",
   "execution_count": 8,
   "metadata": {},
   "outputs": [
    {
     "name": "stderr",
     "output_type": "stream",
     "text": [
      "Reading the data from the database\n",
      "Dataframe created successfully\n",
      "Reading the data from the database\n",
      "Dataframe created successfully\n",
      "Checking if train data exists: 194.\n",
      "Train data exists len: 194.\n",
      "Checking if test data exists: 49.\n",
      "Test data exists: 49.\n",
      "Data validation status: True.\n",
      "Data validation artifact: DataValidationArtifact(is_validated=True, message='Data validation status: True', schema_file_path='/home/pk/Desktop/ML Project/Forest-Fire/config/schema.yaml', Train_collection=<app_database.mongoDB.MongoDB object at 0x7f3e9470b310>, Test_collection=<app_database.mongoDB.MongoDB object at 0x7f3e94702c70>).\n"
     ]
    }
   ],
   "source": [
    "data_validation_artifact = data_validation.initiate_data_validation()"
   ]
  },
  {
   "cell_type": "code",
   "execution_count": 9,
   "metadata": {},
   "outputs": [
    {
     "name": "stderr",
     "output_type": "stream",
     "text": [
      "====================Data Transformation log started.==================== \n"
     ]
    }
   ],
   "source": [
    "data_transformation = DataTransformation(data_transformation_config, data_ingestion_artifact, data_validation_artifact )"
   ]
  },
  {
   "cell_type": "code",
   "execution_count": 10,
   "metadata": {},
   "outputs": [
    {
     "name": "stderr",
     "output_type": "stream",
     "text": [
      "train collection: [<app_database.mongoDB.MongoDB object at 0x7f3e9470b310>]\n",
      "             test collection: [<app_database.mongoDB.MongoDB object at 0x7f3e94702c70>]\n",
      "             schema_file_path: [/home/pk/Desktop/ML Project/Forest-Fire/config/schema.yaml]\n",
      ". \n",
      "Loading train and test dataset...\n",
      "Reading the data from the database\n",
      "Dataframe created successfully\n",
      "Reading the data from the database\n",
      "Dataframe created successfully\n",
      "Data loaded successfully.\n",
      "Target column name: [Classes].\n",
      "Converting target column into numpy array.\n",
      "Conversion completed target column into numpy array.\n",
      "Dropping target column from the dataframe.\n",
      "Dropping target column from the dataframe completed.\n",
      "Creating preprocessing object.\n",
      "Numerical columns: ['Temperature', 'RH', 'Ws', 'Rain', 'FFMC', 'DMC', 'DC', 'ISI', 'BUI', 'FWI']\n",
      "Creating preprocessing object completed.\n",
      "Preprocessing object learning started on training dataset.\n",
      "Transformation started on training dataset.\n",
      "Preprocessing object learning completed on training dataset.\n",
      "Transformation started on testing dataset.\n",
      "Transformation completed on testing dataset.\n",
      "Started concatenation of target column back  into transformed numpy array.\n",
      "Completed concatenation of  target column back  into transformed numpy array.\n",
      "Transformed train file path: [/home/pk/Desktop/ML Project/Forest-Fire/app_artifacts/data_transformation/2022-06-02-14/transformed_data/train/processed_train_file.csv].\n",
      "Transformed test file path: [/home/pk/Desktop/ML Project/Forest-Fire/app_artifacts/data_transformation/2022-06-02-14/transformed_data/test/processed_test_file.csv].\n",
      "Saving transformed train and test dataset to file.\n",
      "Saving transformed train and test dataset to file completed.\n",
      "Writing transformed train and test dataset to mongo.\n",
      "Saving preprocessing object\n",
      "Saving preprocessing object in file: [/home/pk/Desktop/ML Project/Forest-Fire/app_artifacts/data_transformation/2022-06-02-14/preprocessed/preprocessed.pkl] completed.\n",
      "Data Transformation artifact: [DataTransformationArtifact(is_transformed=True, message='Data transformed successfully', transformed_train_file_path='/home/pk/Desktop/ML Project/Forest-Fire/app_artifacts/data_transformation/2022-06-02-14/transformed_data/train/processed_train_file.csv', transformed_test_file_path='/home/pk/Desktop/ML Project/Forest-Fire/app_artifacts/data_transformation/2022-06-02-14/transformed_data/test/processed_test_file.csv', preprocessed_object_file_path='/home/pk/Desktop/ML Project/Forest-Fire/app_artifacts/data_transformation/2022-06-02-14/preprocessed/preprocessed.pkl', train_collection=<app_database.mongoDB.MongoDB object at 0x7f3e9471ca60>, test_collection=<app_database.mongoDB.MongoDB object at 0x7f3e9472b610>)] created successfully\n"
     ]
    },
    {
     "data": {
      "text/plain": [
       "DataTransformationArtifact(is_transformed=True, message='Data transformed successfully', transformed_train_file_path='/home/pk/Desktop/ML Project/Forest-Fire/app_artifacts/data_transformation/2022-06-02-14/transformed_data/train/processed_train_file.csv', transformed_test_file_path='/home/pk/Desktop/ML Project/Forest-Fire/app_artifacts/data_transformation/2022-06-02-14/transformed_data/test/processed_test_file.csv', preprocessed_object_file_path='/home/pk/Desktop/ML Project/Forest-Fire/app_artifacts/data_transformation/2022-06-02-14/preprocessed/preprocessed.pkl', train_collection=<app_database.mongoDB.MongoDB object at 0x7f3e9471ca60>, test_collection=<app_database.mongoDB.MongoDB object at 0x7f3e9472b610>)"
      ]
     },
     "execution_count": 10,
     "metadata": {},
     "output_type": "execute_result"
    }
   ],
   "source": [
    "data_transformation.initiate_data_transformation()"
   ]
  },
  {
   "cell_type": "code",
   "execution_count": null,
   "metadata": {},
   "outputs": [],
   "source": []
  }
 ],
 "metadata": {
  "kernelspec": {
   "display_name": "Python 3.9.7 ('base')",
   "language": "python",
   "name": "python3"
  },
  "language_info": {
   "codemirror_mode": {
    "name": "ipython",
    "version": 3
   },
   "file_extension": ".py",
   "mimetype": "text/x-python",
   "name": "python",
   "nbconvert_exporter": "python",
   "pygments_lexer": "ipython3",
   "version": "3.9.7"
  },
  "orig_nbformat": 4,
  "vscode": {
   "interpreter": {
    "hash": "e747c23ad84bd2d0d19cfad0a72b775aaed6f49f767ddbc5bd094fd76b478967"
   }
  }
 },
 "nbformat": 4,
 "nbformat_minor": 2
}
