{
 "cells": [
  {
   "cell_type": "code",
   "execution_count": 1,
   "metadata": {},
   "outputs": [],
   "source": [
    "from app_src.stage_00_data_ingestion import DataIngestion\n",
    "from app_config.configuration import AppConfiguration\n",
    "from app_src.stage_01_data_validation import DataValidation\n",
    "from app_src.stage_02_data_transformation import DataTransformation\n",
    "from app_src.stage_03_model_trainer import ModelTrainer\n",
    "from app_src.stage_04_model_evalution import ModelEvaluation\n",
    "from app_src.stage_05_model_pusher import ModelPusher\n"
   ]
  },
  {
   "cell_type": "code",
   "execution_count": 2,
   "metadata": {},
   "outputs": [
    {
     "name": "stderr",
     "output_type": "stream",
     "text": [
      "Training Pipeline Config: TrainingPipelineConfig(artifact_dir='/home/pk/Desktop/ML Project/Forest-Fire/app_artifacts')\n"
     ]
    }
   ],
   "source": [
    "APP_config  = AppConfiguration()"
   ]
  },
  {
   "cell_type": "code",
   "execution_count": 3,
   "metadata": {},
   "outputs": [
    {
     "name": "stderr",
     "output_type": "stream",
     "text": [
      "Data Ingestion Config: DatasetConfig(dataset_download_url='https://archive.ics.uci.edu/ml/machine-learning-databases/00547/Algerian_forest_fires_dataset_UPDATE.csv', raw_data_dir='/home/pk/Desktop/ML Project/Forest-Fire/app_artifacts/raw_data', ingested_train_dir='/home/pk/Desktop/ML Project/Forest-Fire/app_artifacts/ingested_data/train', ingested_test_dir='/home/pk/Desktop/ML Project/Forest-Fire/app_artifacts/ingested_data/test', raw_data_collection=<app_database.mongoDB.MongoDB object at 0x7f8a0fae07f0>, ingested_train_collection=<app_database.mongoDB.MongoDB object at 0x7f8a0fae0d60>, ingested_test_collection=<app_database.mongoDB.MongoDB object at 0x7f89f0dd1910>)\n",
      "====================Data Ingestion log started.==================== \n"
     ]
    }
   ],
   "source": [
    "data_injection = DataIngestion(APP_config.get_data_ingestion_config())"
   ]
  },
  {
   "cell_type": "code",
   "execution_count": 4,
   "metadata": {},
   "outputs": [
    {
     "name": "stderr",
     "output_type": "stream",
     "text": [
      "Downloading housing data from https://archive.ics.uci.edu/ml/machine-learning-databases/00547/Algerian_forest_fires_dataset_UPDATE.csv into file /home/pk/Desktop/ML Project/Forest-Fire/app_artifacts/raw_data/Algerian_forest_fires_dataset_UPDATE.csv\n",
      "Downloaded housing data from https://archive.ics.uci.edu/ml/machine-learning-databases/00547/Algerian_forest_fires_dataset_UPDATE.csv into file /home/pk/Desktop/ML Project/Forest-Fire/app_artifacts/raw_data/Algerian_forest_fires_dataset_UPDATE.csv\n",
      "Reading csv file: [/home/pk/Desktop/ML Project/Forest-Fire/app_artifacts/raw_data/Algerian_forest_fires_dataset_UPDATE.csv]\n",
      "Splitting data into train and test\n",
      "Region1 is : Bejaia Region Dataset\n",
      "Region2 is : Sidi-Bel Abbes Region Dataset\n",
      "Exporting training dataset to file: [/home/pk/Desktop/ML Project/Forest-Fire/app_artifacts/ingested_data/train/Algerian_forest_fires_dataset_UPDATE.csv]\n",
      "Exporting test dataset to file: [/home/pk/Desktop/ML Project/Forest-Fire/app_artifacts/ingested_data/test/Algerian_forest_fires_dataset_UPDATE.csv]\n",
      "Data Ingestion artifact:[DataIngestionArtifact(train_file_path='/home/pk/Desktop/ML Project/Forest-Fire/app_artifacts/ingested_data/train/Algerian_forest_fires_dataset_UPDATE.csv', test_file_path='/home/pk/Desktop/ML Project/Forest-Fire/app_artifacts/ingested_data/test/Algerian_forest_fires_dataset_UPDATE.csv', is_ingested=True, message='Data Ingestion completed and data set has been split into train and test')]\n"
     ]
    }
   ],
   "source": [
    "data_ingestion_artifact = data_injection.initiate_data_ingestion()"
   ]
  },
  {
   "cell_type": "code",
   "execution_count": 5,
   "metadata": {},
   "outputs": [
    {
     "name": "stderr",
     "output_type": "stream",
     "text": [
      "DataValidationConfig(schema_file_path='/home/pk/Desktop/ML Project/Forest-Fire/config/schema.yaml', Train_collection=<app_database.mongoDB.MongoDB object at 0x7f89f04d00a0>, Test_collection=<app_database.mongoDB.MongoDB object at 0x7f89f04caa00>)\n"
     ]
    }
   ],
   "source": [
    "data_validation_config=APP_config.get_data_validation_config()"
   ]
  },
  {
   "cell_type": "code",
   "execution_count": 6,
   "metadata": {},
   "outputs": [
    {
     "name": "stderr",
     "output_type": "stream",
     "text": [
      "====================Data Validation log started.==================== \n"
     ]
    }
   ],
   "source": [
    "data_validation =  DataValidation(data_validation_config, data_ingestion_artifact)"
   ]
  },
  {
   "cell_type": "code",
   "execution_count": 7,
   "metadata": {},
   "outputs": [
    {
     "name": "stderr",
     "output_type": "stream",
     "text": [
      "Data Transformation Config: DataTransformationConfig(transformed_train_dir='/home/pk/Desktop/ML Project/Forest-Fire/app_artifacts/data_transformation/2022-06-02-17/transformed_data/train', transformed_test_dir='/home/pk/Desktop/ML Project/Forest-Fire/app_artifacts/data_transformation/2022-06-02-17/transformed_data/test', preprocessed_object_file_path='/home/pk/Desktop/ML Project/Forest-Fire/app_artifacts/data_transformation/2022-06-02-17/preprocessed/preprocessed.pkl', processed_train_collection=<app_database.mongoDB.MongoDB object at 0x7f89f04dc4c0>, processed_test_collection=<app_database.mongoDB.MongoDB object at 0x7f89f059a8b0>)\n"
     ]
    }
   ],
   "source": [
    "data_transformation_config = APP_config.get_data_transformation_config()"
   ]
  },
  {
   "cell_type": "code",
   "execution_count": null,
   "metadata": {},
   "outputs": [],
   "source": []
  },
  {
   "cell_type": "code",
   "execution_count": 8,
   "metadata": {},
   "outputs": [
    {
     "name": "stderr",
     "output_type": "stream",
     "text": [
      "Reading the data from the database\n",
      "Dataframe created successfully\n",
      "Reading the data from the database\n",
      "Dataframe created successfully\n",
      "Checking if train data exists: 194.\n",
      "Train data exists len: 194.\n",
      "Checking if test data exists: 49.\n",
      "Test data exists: 49.\n",
      "Data validation status: True.\n",
      "Data validation artifact: DataValidationArtifact(is_validated=True, message='Data validation status: True', schema_file_path='/home/pk/Desktop/ML Project/Forest-Fire/config/schema.yaml', Train_collection=<app_database.mongoDB.MongoDB object at 0x7f89f04d00a0>, Test_collection=<app_database.mongoDB.MongoDB object at 0x7f89f04caa00>).\n"
     ]
    }
   ],
   "source": [
    "data_validation_artifact = data_validation.initiate_data_validation()"
   ]
  },
  {
   "cell_type": "code",
   "execution_count": 9,
   "metadata": {},
   "outputs": [
    {
     "name": "stderr",
     "output_type": "stream",
     "text": [
      "====================Data Transformation log started.==================== \n"
     ]
    }
   ],
   "source": [
    "data_transformation = DataTransformation(data_transformation_config, data_ingestion_artifact, data_validation_artifact )"
   ]
  },
  {
   "cell_type": "code",
   "execution_count": 10,
   "metadata": {},
   "outputs": [
    {
     "name": "stderr",
     "output_type": "stream",
     "text": [
      "train collection: [<app_database.mongoDB.MongoDB object at 0x7f89f04d00a0>]\n",
      "             test collection: [<app_database.mongoDB.MongoDB object at 0x7f89f04caa00>]\n",
      "             schema_file_path: [/home/pk/Desktop/ML Project/Forest-Fire/config/schema.yaml]\n",
      ". \n",
      "Loading train and test dataset...\n",
      "Reading the data from the database\n",
      "Dataframe created successfully\n",
      "Reading the data from the database\n",
      "Dataframe created successfully\n",
      "Data loaded successfully.\n",
      "Target column name: [Classes].\n",
      "Converting target column into numpy array.\n",
      "Conversion completed target column into numpy array.\n",
      "Dropping target column from the dataframe.\n",
      "Dropping target column from the dataframe completed.\n",
      "Creating preprocessing object.\n",
      "Numerical columns: ['Temperature', 'RH', 'Ws', 'Rain', 'FFMC', 'DMC', 'DC', 'ISI', 'BUI', 'FWI']\n",
      "Creating preprocessing object completed.\n",
      "Preprocessing object learning started on training dataset.\n",
      "Transformation started on training dataset.\n",
      "Preprocessing object learning completed on training dataset.\n",
      "Transformation started on testing dataset.\n",
      "Transformation completed on testing dataset.\n",
      "Started concatenation of target column back  into transformed numpy array.\n",
      "Completed concatenation of  target column back  into transformed numpy array.\n",
      "Transformed train file path: [/home/pk/Desktop/ML Project/Forest-Fire/app_artifacts/data_transformation/2022-06-02-17/transformed_data/train/processed_train_file.csv].\n",
      "Transformed test file path: [/home/pk/Desktop/ML Project/Forest-Fire/app_artifacts/data_transformation/2022-06-02-17/transformed_data/test/processed_test_file.csv].\n",
      "Saving transformed train and test dataset to file.\n",
      "Saving transformed train and test dataset to file completed.\n",
      "Writing transformed train and test dataset to mongo.\n",
      "Saving preprocessing object\n",
      "Saving preprocessing object in file: [/home/pk/Desktop/ML Project/Forest-Fire/app_artifacts/data_transformation/2022-06-02-17/preprocessed/preprocessed.pkl] completed.\n",
      "Data Transformation artifact: [DataTransformationArtifact(is_transformed=True, message='Data transformed successfully', transformed_train_file_path='/home/pk/Desktop/ML Project/Forest-Fire/app_artifacts/data_transformation/2022-06-02-17/transformed_data/train/processed_train_file.csv', transformed_test_file_path='/home/pk/Desktop/ML Project/Forest-Fire/app_artifacts/data_transformation/2022-06-02-17/transformed_data/test/processed_test_file.csv', preprocessed_object_file_path='/home/pk/Desktop/ML Project/Forest-Fire/app_artifacts/data_transformation/2022-06-02-17/preprocessed/preprocessed.pkl', train_collection=<app_database.mongoDB.MongoDB object at 0x7f89f04dc4c0>, test_collection=<app_database.mongoDB.MongoDB object at 0x7f89f059a8b0>)] created successfully\n"
     ]
    }
   ],
   "source": [
    "data_transformation_artifact=data_transformation.initiate_data_transformation()"
   ]
  },
  {
   "cell_type": "code",
   "execution_count": 11,
   "metadata": {},
   "outputs": [
    {
     "name": "stderr",
     "output_type": "stream",
     "text": [
      "Model Trainer Config: ModelTrainerConfig(trained_model_file_path='/home/pk/Desktop/ML Project/Forest-Fire/app_artifacts/model_trainer/2022-06-02-17/trained_model/model.pkl', train_collection=<app_database.mongoDB.MongoDB object at 0x7f89f04c1880>, test_collection=<app_database.mongoDB.MongoDB object at 0x7f89f0494910>, base_accuracy=0.8, model_list=[RandomForestClassifier(bootstrap=False, max_leaf_nodes=2, n_estimators=70,\n",
      "                       n_jobs=-1, random_state=42), SVC(C=0.05, kernel='linear', probability=True), GradientBoostingClassifier(learning_rate=5.1, max_features='sqrt',\n",
      "                           n_estimators=40)])\n"
     ]
    }
   ],
   "source": [
    "model_trainer_config = APP_config.get_model_trainer_config()"
   ]
  },
  {
   "cell_type": "code",
   "execution_count": 12,
   "metadata": {},
   "outputs": [
    {
     "name": "stderr",
     "output_type": "stream",
     "text": [
      "====================Model trainer log started.==================== \n"
     ]
    }
   ],
   "source": [
    "model_trainer = ModelTrainer(model_trainer_config, data_transformation_artifact)"
   ]
  },
  {
   "cell_type": "code",
   "execution_count": 13,
   "metadata": {},
   "outputs": [
    {
     "name": "stderr",
     "output_type": "stream",
     "text": [
      "Reading the data from the database\n",
      "Dataframe created successfully\n",
      "Reading the data from the database\n",
      "Dataframe created successfully\n",
      "Started training model: [RandomForestClassifier]\n",
      "Finished training model: [RandomForestClassifier]\n",
      "Started training model: [SVC]\n",
      "Finished training model: [SVC]\n",
      "Started training model: [GradientBoostingClassifier]\n",
      "Finished training model: [GradientBoostingClassifier]\n",
      "Started evaluating model: [RandomForestClassifier]\n",
      "********************RandomForestClassifier(bootstrap=False, max_leaf_nodes=2, n_estimators=70,\n",
      "                       n_jobs=-1, random_state=42) metric info********************\n",
      "\n",
      "\t\tTrain accuracy: [0.9896907216494846].\n",
      "\t\tTest accuracy: [0.9795918367346939].\n",
      "\t\tTrain Precision: [0.9655172413793104].\n",
      "\t\tTest Precision: [0.9655172413793104].\n",
      "\t\tModel accuracy: [0.9846153846153847].\n",
      "\t\tBase accuracy: [0.8].\n",
      "\t\tDiff test train accuracy: [0.010098884914790718].\n",
      "********************RandomForestClassifier(bootstrap=False, max_leaf_nodes=2, n_estimators=70,\n",
      "                       n_jobs=-1, random_state=42) metric info********************\n",
      "Acceptable model found MetricInfo(model_name='RandomForestClassifier(bootstrap=False, max_leaf_nodes=2, n_estimators=70,\\n                       n_jobs=-1, random_state=42)', model_object=RandomForestClassifier(bootstrap=False, max_leaf_nodes=2, n_estimators=70,\n",
      "                       n_jobs=-1, random_state=42), train_precision=0.9821428571428571, test_precision=0.9655172413793104, train_accuracy=0.9896907216494846, test_accuracy=0.9795918367346939, model_accuracy=0.9846153846153847, index_number=0). \n",
      "Started evaluating model: [SVC]\n",
      "********************SVC(C=0.05, kernel='linear', probability=True) metric info********************\n",
      "\n",
      "\t\tTrain accuracy: [0.9484536082474226].\n",
      "\t\tTest accuracy: [0.9591836734693877].\n",
      "\t\tTrain Precision: [0.9642857142857143].\n",
      "\t\tTest Precision: [0.9642857142857143].\n",
      "\t\tModel accuracy: [0.9537884636594243].\n",
      "\t\tBase accuracy: [0.9846153846153847].\n",
      "\t\tDiff test train accuracy: [0.010730065221965068].\n",
      "********************SVC(C=0.05, kernel='linear', probability=True) metric info********************\n",
      "Started evaluating model: [GradientBoostingClassifier]\n",
      "********************GradientBoostingClassifier(learning_rate=5.1, max_features='sqrt',\n",
      "                           n_estimators=40) metric info********************\n",
      "\n",
      "\t\tTrain accuracy: [0.9948453608247423].\n",
      "\t\tTest accuracy: [0.9591836734693877].\n",
      "\t\tTrain Precision: [0.9642857142857143].\n",
      "\t\tTest Precision: [0.9642857142857143].\n",
      "\t\tModel accuracy: [0.9766890982503365].\n",
      "\t\tBase accuracy: [0.9846153846153847].\n",
      "\t\tDiff test train accuracy: [0.03566168735535458].\n",
      "********************GradientBoostingClassifier(learning_rate=5.1, max_features='sqrt',\n",
      "                           n_estimators=40) metric info********************\n",
      "Saving trained model to: /home/pk/Desktop/ML Project/Forest-Fire/app_artifacts/model_trainer/2022-06-02-17/trained_model/model.pkl\n",
      "Saved trained model to: /home/pk/Desktop/ML Project/Forest-Fire/app_artifacts/model_trainer/2022-06-02-17/trained_model/model.pkl\n",
      "Trained model artifact: ModelTrainerArtifact(is_trained=True, message='Model trained successfully', trained_model_file_path='/home/pk/Desktop/ML Project/Forest-Fire/app_artifacts/model_trainer/2022-06-02-17/trained_model/model.pkl', train_precision=0.9821428571428571, test_precision=0.9655172413793104, train_accuracy=0.9896907216494846, test_accuracy=0.9795918367346939, model_accuracy=0.9846153846153847).\n"
     ]
    }
   ],
   "source": [
    "model_trainer_artifact=model_trainer.initiate_model_trainer()"
   ]
  },
  {
   "cell_type": "code",
   "execution_count": 14,
   "metadata": {},
   "outputs": [
    {
     "name": "stderr",
     "output_type": "stream",
     "text": [
      "Model Evaluation Config: ModelEvaluationConfig(model_evaluation_file_path='/home/pk/Desktop/ML Project/Forest-Fire/app_artifacts/model_evaluation/model_evaluation.yaml', time_stamp='2022-06-02-17').\n"
     ]
    }
   ],
   "source": [
    "model_evaluation_config = APP_config.get_model_evaluation_config()"
   ]
  },
  {
   "cell_type": "code",
   "execution_count": 15,
   "metadata": {},
   "outputs": [
    {
     "name": "stderr",
     "output_type": "stream",
     "text": [
      "====================Model Evaluation log started.==================== \n"
     ]
    }
   ],
   "source": [
    "model_evaluation = ModelEvaluation(model_evaluation_config,data_ingestion_artifact,data_validation_artifact,model_trainer_artifact)"
   ]
  },
  {
   "cell_type": "code",
   "execution_count": 16,
   "metadata": {},
   "outputs": [
    {
     "name": "stderr",
     "output_type": "stream",
     "text": [
      "Reading the data from the database\n",
      "Dataframe created successfully\n",
      "Reading the data from the database\n",
      "Dataframe created successfully\n",
      "Converting target column into numpy array.\n",
      "Conversion completed target column into numpy array.\n",
      "Converting target column into numpy array.\n",
      "Conversion completed target column into numpy array.\n",
      "Dropping target column from the dataframe.\n",
      "Dropping target column from the dataframe completed.\n",
      "Started evaluating model: [TrainedModel]\n",
      "********************RandomForestClassifier() metric info********************\n",
      "\n",
      "\t\tTrain accuracy: [0.9896907216494846].\n",
      "\t\tTest accuracy: [0.9795918367346939].\n",
      "\t\tTrain Precision: [0.9655172413793104].\n",
      "\t\tTest Precision: [0.9655172413793104].\n",
      "\t\tModel accuracy: [0.9846153846153847].\n",
      "\t\tBase accuracy: [0.9846153846153847].\n",
      "\t\tDiff test train accuracy: [0.010098884914790718].\n",
      "********************RandomForestClassifier() metric info********************\n",
      "Acceptable model found MetricInfo(model_name='RandomForestClassifier()', model_object=RandomForestClassifier(), train_precision=0.9821428571428571, test_precision=0.9655172413793104, train_accuracy=0.9896907216494846, test_accuracy=0.9795918367346939, model_accuracy=0.9846153846153847, index_number=0). \n",
      "Started evaluating model: [TrainedModel]\n",
      "********************RandomForestClassifier() metric info********************\n",
      "\n",
      "\t\tTrain accuracy: [0.9896907216494846].\n",
      "\t\tTest accuracy: [0.9795918367346939].\n",
      "\t\tTrain Precision: [0.9655172413793104].\n",
      "\t\tTest Precision: [0.9655172413793104].\n",
      "\t\tModel accuracy: [0.9846153846153847].\n",
      "\t\tBase accuracy: [0.9846153846153847].\n",
      "\t\tDiff test train accuracy: [0.010098884914790718].\n",
      "********************RandomForestClassifier() metric info********************\n",
      "Acceptable model found MetricInfo(model_name='RandomForestClassifier()', model_object=RandomForestClassifier(), train_precision=0.9821428571428571, test_precision=0.9655172413793104, train_accuracy=0.9896907216494846, test_accuracy=0.9795918367346939, model_accuracy=0.9846153846153847, index_number=1). \n",
      "Model evaluation completed. model metric artifact: MetricInfo(model_name='RandomForestClassifier()', model_object=RandomForestClassifier(), train_precision=0.9821428571428571, test_precision=0.9655172413793104, train_accuracy=0.9896907216494846, test_accuracy=0.9795918367346939, model_accuracy=0.9846153846153847, index_number=1)\n",
      "Previous eval result: {'best_model': {'model_path': '/home/pk/Desktop/ML Project/Forest-Fire/app_artifacts/model_trainer/2022-06-02-17/trained_model/model.pkl'}}\n",
      "Updated eval result:{'best_model': {'model_path': '/home/pk/Desktop/ML Project/Forest-Fire/app_artifacts/model_trainer/2022-06-02-17/trained_model/model.pkl'}, 'history': {'2022-06-02-17': {'model_path': '/home/pk/Desktop/ML Project/Forest-Fire/app_artifacts/model_trainer/2022-06-02-17/trained_model/model.pkl'}}}\n",
      "Model accepted. Model eval artifact ModelEvaluationArtifact(is_model_accepted=True, evaluated_model_path='/home/pk/Desktop/ML Project/Forest-Fire/app_artifacts/model_trainer/2022-06-02-17/trained_model/model.pkl') created\n",
      "====================Model Evaluation log completed.==================== \n"
     ]
    }
   ],
   "source": [
    "model_evaluation= model_evaluation.initiate_model_evaluation()"
   ]
  },
  {
   "cell_type": "code",
   "execution_count": 17,
   "metadata": {},
   "outputs": [
    {
     "name": "stderr",
     "output_type": "stream",
     "text": [
      "Model pusher config ModelPusherConfig(export_dir_path='/home/pk/Desktop/ML Project/Forest-Fire/saved_models/20220602172649')\n"
     ]
    }
   ],
   "source": [
    "model_pusher_config = APP_config.get_model_pusher_config()"
   ]
  },
  {
   "cell_type": "code",
   "execution_count": 18,
   "metadata": {},
   "outputs": [
    {
     "name": "stderr",
     "output_type": "stream",
     "text": [
      "====================Model Pusher log started.==================== \n"
     ]
    }
   ],
   "source": [
    "model_evaluation = ModelPusher(model_pusher_config, model_evaluation)"
   ]
  },
  {
   "cell_type": "code",
   "execution_count": 20,
   "metadata": {},
   "outputs": [
    {
     "name": "stderr",
     "output_type": "stream",
     "text": [
      "Exporting model file: [/home/pk/Desktop/ML Project/Forest-Fire/saved_models/20220602172649/model.pkl]\n",
      "Trained model: /home/pk/Desktop/ML Project/Forest-Fire/app_artifacts/model_trainer/2022-06-02-17/trained_model/model.pkl is copied in export dir:[/home/pk/Desktop/ML Project/Forest-Fire/saved_models/20220602172649/model.pkl]\n",
      "Model pusher artifact: [ModelPusherArtifact(is_model_pusher=True, export_model_file_path='/home/pk/Desktop/ML Project/Forest-Fire/saved_models/20220602172649/model.pkl')]\n"
     ]
    }
   ],
   "source": [
    "model_evaluation_artifact = model_evaluation.initiate_model_pusher()"
   ]
  },
  {
   "cell_type": "code",
   "execution_count": null,
   "metadata": {},
   "outputs": [],
   "source": []
  }
 ],
 "metadata": {
  "kernelspec": {
   "display_name": "Python 3.9.7 ('base')",
   "language": "python",
   "name": "python3"
  },
  "language_info": {
   "codemirror_mode": {
    "name": "ipython",
    "version": 3
   },
   "file_extension": ".py",
   "mimetype": "text/x-python",
   "name": "python",
   "nbconvert_exporter": "python",
   "pygments_lexer": "ipython3",
   "version": "3.9.7"
  },
  "orig_nbformat": 4,
  "vscode": {
   "interpreter": {
    "hash": "e747c23ad84bd2d0d19cfad0a72b775aaed6f49f767ddbc5bd094fd76b478967"
   }
  }
 },
 "nbformat": 4,
 "nbformat_minor": 2
}
