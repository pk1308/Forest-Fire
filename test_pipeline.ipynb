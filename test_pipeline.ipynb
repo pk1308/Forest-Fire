{
 "cells": [
  {
   "cell_type": "code",
   "execution_count": 2,
   "metadata": {},
   "outputs": [
    {
     "name": "stderr",
     "output_type": "stream",
     "text": [
      "Training Pipeline Config: TrainingPipelineConfig(artifact_dir='/home/pk/Desktop/ML Project/Forest-Fire/app_artifacts')\n"
     ]
    }
   ],
   "source": [
    "from app_pipeline.training_pipeline import TrainingPipeline"
   ]
  },
  {
   "cell_type": "code",
   "execution_count": 3,
   "metadata": {},
   "outputs": [],
   "source": [
    "pipeline = TrainingPipeline()"
   ]
  },
  {
   "cell_type": "code",
   "execution_count": 4,
   "metadata": {},
   "outputs": [
    {
     "name": "stderr",
     "output_type": "stream",
     "text": [
      "Starting training pipeline\n",
      "Data Ingestion Config: DatasetConfig(dataset_download_url='https://archive.ics.uci.edu/ml/machine-learning-databases/00547/Algerian_forest_fires_dataset_UPDATE.csv', raw_data_dir='/home/pk/Desktop/ML Project/Forest-Fire/app_artifacts/raw_data', ingested_train_dir='/home/pk/Desktop/ML Project/Forest-Fire/app_artifacts/ingested_data/train', ingested_test_dir='/home/pk/Desktop/ML Project/Forest-Fire/app_artifacts/ingested_data/test', raw_data_collection=<app_database.mongoDB.MongoDB object at 0x7f7b3405fd90>, ingested_train_collection=<app_database.mongoDB.MongoDB object at 0x7f7b1e273e80>, ingested_test_collection=<app_database.mongoDB.MongoDB object at 0x7f7af455ff10>)\n",
      "====================Data Ingestion log started.==================== \n",
      "Downloading housing data from https://archive.ics.uci.edu/ml/machine-learning-databases/00547/Algerian_forest_fires_dataset_UPDATE.csv into file /home/pk/Desktop/ML Project/Forest-Fire/app_artifacts/raw_data/Algerian_forest_fires_dataset_UPDATE.csv\n",
      "Downloaded housing data from https://archive.ics.uci.edu/ml/machine-learning-databases/00547/Algerian_forest_fires_dataset_UPDATE.csv into file /home/pk/Desktop/ML Project/Forest-Fire/app_artifacts/raw_data/Algerian_forest_fires_dataset_UPDATE.csv\n",
      "Reading csv file: [/home/pk/Desktop/ML Project/Forest-Fire/app_artifacts/raw_data/Algerian_forest_fires_dataset_UPDATE.csv]\n",
      "Splitting data into train and test\n",
      "Region1 is : Bejaia Region Dataset\n",
      "Region2 is : Sidi-Bel Abbes Region Dataset\n",
      "Exporting training dataset to file: [/home/pk/Desktop/ML Project/Forest-Fire/app_artifacts/ingested_data/train/Algerian_forest_fires_dataset_UPDATE.csv]\n",
      "Exporting test dataset to file: [/home/pk/Desktop/ML Project/Forest-Fire/app_artifacts/ingested_data/test/Algerian_forest_fires_dataset_UPDATE.csv]\n",
      "Data Ingestion artifact:[DataIngestionArtifact(train_file_path='/home/pk/Desktop/ML Project/Forest-Fire/app_artifacts/ingested_data/train/Algerian_forest_fires_dataset_UPDATE.csv', test_file_path='/home/pk/Desktop/ML Project/Forest-Fire/app_artifacts/ingested_data/test/Algerian_forest_fires_dataset_UPDATE.csv', is_ingested=True, message='Data Ingestion completed and data set has been split into train and test')]\n",
      "====================Data Ingestion log completed.==================== \n",
      "\n",
      "\n",
      "DataValidationConfig(schema_file_path='/home/pk/Desktop/ML Project/Forest-Fire/config/schema.yaml', Train_collection=<app_database.mongoDB.MongoDB object at 0x7f7b3405fd90>, Test_collection=<app_database.mongoDB.MongoDB object at 0x7f7af446cd90>)\n",
      "====================Data Validation log started.==================== \n",
      "Reading the data from the database\n",
      "Dataframe created successfully\n",
      "Reading the data from the database\n",
      "Dataframe created successfully\n",
      "Checking if train data exists: 194.\n",
      "Train data exists len: 194.\n",
      "Checking if test data exists: 49.\n",
      "Test data exists: 49.\n",
      "Data validation status: True.\n",
      "Data validation artifact: DataValidationArtifact(is_validated=True, message='Data validation status: True', schema_file_path='/home/pk/Desktop/ML Project/Forest-Fire/config/schema.yaml', Train_collection=<app_database.mongoDB.MongoDB object at 0x7f7b3405fd90>, Test_collection=<app_database.mongoDB.MongoDB object at 0x7f7af446cd90>).\n",
      "====================Data Validation log ended.==================== \n",
      "Data Transformation Config: DataTransformationConfig(transformed_train_dir='/home/pk/Desktop/ML Project/Forest-Fire/app_artifacts/data_transformation/2022-06-02-23/transformed_data/train', transformed_test_dir='/home/pk/Desktop/ML Project/Forest-Fire/app_artifacts/data_transformation/2022-06-02-23/transformed_data/test', preprocessed_object_file_path='/home/pk/Desktop/ML Project/Forest-Fire/app_artifacts/data_transformation/2022-06-02-23/preprocessed/preprocessed.pkl', processed_train_collection=<app_database.mongoDB.MongoDB object at 0x7f7af4458040>, processed_test_collection=<app_database.mongoDB.MongoDB object at 0x7f7af4521850>)\n",
      "====================Data Transformation log started.==================== \n",
      "train collection: [<app_database.mongoDB.MongoDB object at 0x7f7b3405fd90>]\n",
      "             test collection: [<app_database.mongoDB.MongoDB object at 0x7f7af446cd90>]\n",
      "             schema_file_path: [/home/pk/Desktop/ML Project/Forest-Fire/config/schema.yaml]\n",
      ". \n",
      "Loading train and test dataset...\n",
      "Reading the data from the database\n",
      "Dataframe created successfully\n",
      "Reading the data from the database\n",
      "Dataframe created successfully\n",
      "Data loaded successfully.\n",
      "Target column name: [Classes].\n",
      "target.\n",
      "Dropping target column from the dataframe.\n",
      "Dropping target column from the dataframe completed.\n",
      "Creating preprocessing object.\n",
      "Numerical columns: ['Temperature', 'RH', 'Ws', 'Rain', 'FFMC', 'DMC', 'DC', 'ISI', 'BUI', 'FWI']\n",
      "Creating preprocessing object completed.\n",
      "Preprocessing object learning started on training dataset.\n",
      "Transformation started on training dataset.\n",
      "Preprocessing object learning completed on training dataset.\n",
      "Transformation started on testing dataset.\n",
      "Transformation completed on testing dataset.\n",
      "Started concatenation of target column back  into transformed numpy array.\n",
      "Completed concatenation of  target column back  into transformed numpy array.\n",
      "Transformed train file path: [/home/pk/Desktop/ML Project/Forest-Fire/app_artifacts/data_transformation/2022-06-02-23/transformed_data/train/processed_train_file.csv].\n",
      "Transformed test file path: [/home/pk/Desktop/ML Project/Forest-Fire/app_artifacts/data_transformation/2022-06-02-23/transformed_data/test/processed_test_file.csv].\n",
      "Saving transformed train and test dataset to file.\n",
      "Saving transformed train and test dataset to file completed.\n",
      "Writing transformed train and test dataset to mongo.\n",
      "Saving preprocessing object\n",
      "Saving preprocessing object in file: [/home/pk/Desktop/ML Project/Forest-Fire/app_artifacts/data_transformation/2022-06-02-23/preprocessed/preprocessed.pkl] completed.\n",
      "Data Transformation artifact: [DataTransformationArtifact(is_transformed=True, message='Data transformed successfully', transformed_train_file_path='/home/pk/Desktop/ML Project/Forest-Fire/app_artifacts/data_transformation/2022-06-02-23/transformed_data/train/processed_train_file.csv', transformed_test_file_path='/home/pk/Desktop/ML Project/Forest-Fire/app_artifacts/data_transformation/2022-06-02-23/transformed_data/test/processed_test_file.csv', preprocessed_object_file_path='/home/pk/Desktop/ML Project/Forest-Fire/app_artifacts/data_transformation/2022-06-02-23/preprocessed/preprocessed.pkl', preprocessed_object=ColumnTransformer(transformers=[('num_pipeline',\n",
      "                                 Pipeline(steps=[('imputer',\n",
      "                                                  KNNImputer(n_neighbors=2)),\n",
      "                                                 ('scaler', StandardScaler())]),\n",
      "                                 ['Temperature', 'RH', 'Ws', 'Rain', 'FFMC',\n",
      "                                  'DMC', 'DC', 'ISI', 'BUI', 'FWI'])]), train_collection=<app_database.mongoDB.MongoDB object at 0x7f7af4458040>, test_collection=<app_database.mongoDB.MongoDB object at 0x7f7af4521850>)] created successfully\n",
      "====================Data Transformation log ended.==================== \n",
      "Model Trainer Config: ModelTrainerConfig(trained_model_file_path='/home/pk/Desktop/ML Project/Forest-Fire/app_artifacts/model_trainer/2022-06-02-23/trained_model/model.pkl', train_collection=<app_database.mongoDB.MongoDB object at 0x7f7af5efa700>, test_collection=<app_database.mongoDB.MongoDB object at 0x7f7af4488f40>, base_accuracy=0.8, model_list=[RandomForestClassifier(bootstrap=False, max_leaf_nodes=2, n_estimators=50,\n",
      "                       n_jobs=-1, random_state=42), SVC(C=0.05, kernel='linear', probability=True), GradientBoostingClassifier(learning_rate=5.1, max_features='sqrt',\n",
      "                           n_estimators=30)])\n",
      "====================Model trainer log started.==================== \n",
      "Reading the data from the database\n",
      "Dataframe created successfully\n",
      "Reading the data from the database\n",
      "Dataframe created successfully\n",
      "Started training model: [RandomForestClassifier]\n",
      "Finished training model: [RandomForestClassifier]\n",
      "Started training model: [SVC]\n",
      "Finished training model: [SVC]\n",
      "Started training model: [GradientBoostingClassifier]\n",
      "Finished training model: [GradientBoostingClassifier]\n",
      "Started evaluating model: [RandomForestClassifier]\n",
      "********************RandomForestClassifier(bootstrap=False, max_leaf_nodes=2, n_estimators=50,\n",
      "                       n_jobs=-1, random_state=42) metric info********************\n",
      "\n",
      "\t\tTrain accuracy: [0.979381443298969].\n",
      "\t\tTest accuracy: [0.9795918367346939].\n",
      "\t\tTrain Precision: [0.9655172413793104].\n",
      "\t\tTest Precision: [0.9655172413793104].\n",
      "\t\tModel accuracy: [0.9794866287187198].\n",
      "\t\tBase accuracy: [0.8].\n",
      "\t\tDiff test train accuracy: [0.0002103934357248205].\n",
      "********************RandomForestClassifier(bootstrap=False, max_leaf_nodes=2, n_estimators=50,\n",
      "                       n_jobs=-1, random_state=42) metric info********************\n",
      "Acceptable model found MetricInfo(model_name='RandomForestClassifier(bootstrap=False, max_leaf_nodes=2, n_estimators=50,\\n                       n_jobs=-1, random_state=42)', model_object=RandomForestClassifier(bootstrap=False, max_leaf_nodes=2, n_estimators=50,\n",
      "                       n_jobs=-1, random_state=42), train_precision=0.9649122807017544, test_precision=0.9655172413793104, train_accuracy=0.979381443298969, test_accuracy=0.9795918367346939, model_accuracy=0.9794866287187198, index_number=0). \n",
      "Started evaluating model: [SVC]\n",
      "********************SVC(C=0.05, kernel='linear', probability=True) metric info********************\n",
      "\n",
      "\t\tTrain accuracy: [0.9484536082474226].\n",
      "\t\tTest accuracy: [0.9591836734693877].\n",
      "\t\tTrain Precision: [0.9642857142857143].\n",
      "\t\tTest Precision: [0.9642857142857143].\n",
      "\t\tModel accuracy: [0.9537884636594243].\n",
      "\t\tBase accuracy: [0.9794866287187198].\n",
      "\t\tDiff test train accuracy: [0.010730065221965068].\n",
      "********************SVC(C=0.05, kernel='linear', probability=True) metric info********************\n",
      "Started evaluating model: [GradientBoostingClassifier]\n",
      "********************GradientBoostingClassifier(learning_rate=5.1, max_features='sqrt',\n",
      "                           n_estimators=30) metric info********************\n",
      "\n",
      "\t\tTrain accuracy: [0.9278350515463918].\n",
      "\t\tTest accuracy: [0.9387755102040817].\n",
      "\t\tTrain Precision: [0.9629629629629629].\n",
      "\t\tTest Precision: [0.9629629629629629].\n",
      "\t\tModel accuracy: [0.9332732191163211].\n",
      "\t\tBase accuracy: [0.9794866287187198].\n",
      "\t\tDiff test train accuracy: [0.010940458657689889].\n",
      "********************GradientBoostingClassifier(learning_rate=5.1, max_features='sqrt',\n",
      "                           n_estimators=30) metric info********************\n",
      "Saving trained model to: /home/pk/Desktop/ML Project/Forest-Fire/app_artifacts/model_trainer/2022-06-02-23/trained_model/model.pkl\n",
      "Saved trained model to: /home/pk/Desktop/ML Project/Forest-Fire/app_artifacts/model_trainer/2022-06-02-23/trained_model/model.pkl\n",
      "Trained model artifact: ModelTrainerArtifact(is_trained=True, message='Model trained successfully', trained_model_file_path='/home/pk/Desktop/ML Project/Forest-Fire/app_artifacts/model_trainer/2022-06-02-23/trained_model/model.pkl', train_precision=0.9649122807017544, test_precision=0.9655172413793104, train_accuracy=0.979381443298969, test_accuracy=0.9795918367346939, model_accuracy=0.9794866287187198).\n",
      "====================Model trainer log completed.==================== \n",
      "Model Evaluation Config: ModelEvaluationConfig(model_evaluation_file_path='/home/pk/Desktop/ML Project/Forest-Fire/app_artifacts/model_evaluation/model_evaluation.yaml', time_stamp='2022-06-02-23').\n",
      "====================Model Evaluation log started.==================== \n",
      "Reading the data from the database\n",
      "Dataframe created successfully\n",
      "Reading the data from the database\n",
      "Dataframe created successfully\n",
      "Error occurred python script name [/home/pk/Desktop/ML Project/Forest-Fire/app_src/stage_04_model_evaluation.py] line number [104] error message [X has 11 features, but ColumnTransformer is expecting 10 features as input.].\n",
      "Error occurred python script name [/home/pk/Desktop/ML Project/Forest-Fire/app_pipeline/training_pipeline.py] line number [104] error message [Error occurred python script name [/home/pk/Desktop/ML Project/Forest-Fire/app_src/stage_04_model_evaluation.py] line number [104] error message [X has 11 features, but ColumnTransformer is expecting 10 features as input.].].\n",
      "Error occurred python script name [/home/pk/Desktop/ML Project/Forest-Fire/app_pipeline/training_pipeline.py] line number [124] error message [Error occurred python script name [/home/pk/Desktop/ML Project/Forest-Fire/app_pipeline/training_pipeline.py] line number [104] error message [Error occurred python script name [/home/pk/Desktop/ML Project/Forest-Fire/app_src/stage_04_model_evaluation.py] line number [104] error message [X has 11 features, but ColumnTransformer is expecting 10 features as input.].].].\n"
     ]
    },
    {
     "ename": "AppException",
     "evalue": "Error occurred python script name [/home/pk/Desktop/ML Project/Forest-Fire/app_pipeline/training_pipeline.py] line number [124] error message [Error occurred python script name [/home/pk/Desktop/ML Project/Forest-Fire/app_pipeline/training_pipeline.py] line number [104] error message [Error occurred python script name [/home/pk/Desktop/ML Project/Forest-Fire/app_src/stage_04_model_evaluation.py] line number [104] error message [X has 11 features, but ColumnTransformer is expecting 10 features as input.].].].",
     "output_type": "error",
     "traceback": [
      "\u001b[0;31m---------------------------------------------------------------------------\u001b[0m",
      "\u001b[0;31mValueError\u001b[0m                                Traceback (most recent call last)",
      "\u001b[0;32m~/Desktop/ML Project/Forest-Fire/app_src/stage_04_model_evaluation.py\u001b[0m in \u001b[0;36minitiate_model_evaluation\u001b[0;34m(self)\u001b[0m\n\u001b[1;32m    103\u001b[0m             \u001b[0mpreprocessed_object\u001b[0m\u001b[0;34m=\u001b[0m\u001b[0mself\u001b[0m\u001b[0;34m.\u001b[0m\u001b[0mdata_transformation_artifact\u001b[0m\u001b[0;34m.\u001b[0m\u001b[0mpreprocessed_object\u001b[0m\u001b[0;34m\u001b[0m\u001b[0;34m\u001b[0m\u001b[0m\n\u001b[0;32m--> 104\u001b[0;31m             \u001b[0mtrain_dataframe\u001b[0m\u001b[0;34m[\u001b[0m\u001b[0mtrain_dataframe\u001b[0m\u001b[0;34m.\u001b[0m\u001b[0mcolumns\u001b[0m\u001b[0;34m]\u001b[0m \u001b[0;34m=\u001b[0m \u001b[0mpreprocessed_object\u001b[0m\u001b[0;34m.\u001b[0m\u001b[0mtransform\u001b[0m\u001b[0;34m(\u001b[0m\u001b[0mtrain_dataframe\u001b[0m\u001b[0;34m)\u001b[0m\u001b[0;34m\u001b[0m\u001b[0;34m\u001b[0m\u001b[0m\n\u001b[0m\u001b[1;32m    105\u001b[0m             \u001b[0mtest_dataframe\u001b[0m\u001b[0;34m[\u001b[0m\u001b[0mtest_dataframe\u001b[0m\u001b[0;34m.\u001b[0m\u001b[0mcolumns\u001b[0m\u001b[0;34m]\u001b[0m \u001b[0;34m=\u001b[0m \u001b[0mpreprocessed_object\u001b[0m\u001b[0;34m.\u001b[0m\u001b[0mtransform\u001b[0m\u001b[0;34m(\u001b[0m\u001b[0mtest_dataframe\u001b[0m\u001b[0;34m)\u001b[0m\u001b[0;34m\u001b[0m\u001b[0;34m\u001b[0m\u001b[0m\n",
      "\u001b[0;32m~/anaconda3/lib/python3.9/site-packages/sklearn/compose/_column_transformer.py\u001b[0m in \u001b[0;36mtransform\u001b[0;34m(self, X)\u001b[0m\n\u001b[1;32m    555\u001b[0m \u001b[0;34m\u001b[0m\u001b[0m\n\u001b[0;32m--> 556\u001b[0;31m         \u001b[0mself\u001b[0m\u001b[0;34m.\u001b[0m\u001b[0m_check_n_features\u001b[0m\u001b[0;34m(\u001b[0m\u001b[0mX\u001b[0m\u001b[0;34m,\u001b[0m \u001b[0mreset\u001b[0m\u001b[0;34m=\u001b[0m\u001b[0;32mFalse\u001b[0m\u001b[0;34m)\u001b[0m\u001b[0;34m\u001b[0m\u001b[0;34m\u001b[0m\u001b[0m\n\u001b[0m\u001b[1;32m    557\u001b[0m         if (self._feature_names_in is not None and\n",
      "\u001b[0;32m~/anaconda3/lib/python3.9/site-packages/sklearn/base.py\u001b[0m in \u001b[0;36m_check_n_features\u001b[0;34m(self, X, reset)\u001b[0m\n\u001b[1;32m    364\u001b[0m         \u001b[0;32mif\u001b[0m \u001b[0mn_features\u001b[0m \u001b[0;34m!=\u001b[0m \u001b[0mself\u001b[0m\u001b[0;34m.\u001b[0m\u001b[0mn_features_in_\u001b[0m\u001b[0;34m:\u001b[0m\u001b[0;34m\u001b[0m\u001b[0;34m\u001b[0m\u001b[0m\n\u001b[0;32m--> 365\u001b[0;31m             raise ValueError(\n\u001b[0m\u001b[1;32m    366\u001b[0m                 \u001b[0;34mf\"X has {n_features} features, but {self.__class__.__name__} \"\u001b[0m\u001b[0;34m\u001b[0m\u001b[0;34m\u001b[0m\u001b[0m\n",
      "\u001b[0;31mValueError\u001b[0m: X has 11 features, but ColumnTransformer is expecting 10 features as input.",
      "\nThe above exception was the direct cause of the following exception:\n",
      "\u001b[0;31mAppException\u001b[0m                              Traceback (most recent call last)",
      "\u001b[0;32m~/Desktop/ML Project/Forest-Fire/app_pipeline/training_pipeline.py\u001b[0m in \u001b[0;36mstart_model_evaluation\u001b[0;34m(self, data_ingestion_artifact, data_validation_artifact, model_trainer_artifact, data_transformation_artifact)\u001b[0m\n\u001b[1;32m    103\u001b[0m                 data_transformation_artifact= data_transformation_artifact)\n\u001b[0;32m--> 104\u001b[0;31m             \u001b[0;32mreturn\u001b[0m \u001b[0mmodel_eval\u001b[0m\u001b[0;34m.\u001b[0m\u001b[0minitiate_model_evaluation\u001b[0m\u001b[0;34m(\u001b[0m\u001b[0;34m)\u001b[0m\u001b[0;34m\u001b[0m\u001b[0;34m\u001b[0m\u001b[0m\n\u001b[0m\u001b[1;32m    105\u001b[0m         \u001b[0;32mexcept\u001b[0m \u001b[0mException\u001b[0m \u001b[0;32mas\u001b[0m \u001b[0me\u001b[0m\u001b[0;34m:\u001b[0m\u001b[0;34m\u001b[0m\u001b[0;34m\u001b[0m\u001b[0m\n",
      "\u001b[0;32m~/Desktop/ML Project/Forest-Fire/app_src/stage_04_model_evaluation.py\u001b[0m in \u001b[0;36minitiate_model_evaluation\u001b[0;34m(self)\u001b[0m\n\u001b[1;32m    163\u001b[0m         \u001b[0;32mexcept\u001b[0m \u001b[0mException\u001b[0m \u001b[0;32mas\u001b[0m \u001b[0me\u001b[0m\u001b[0;34m:\u001b[0m\u001b[0;34m\u001b[0m\u001b[0;34m\u001b[0m\u001b[0m\n\u001b[0;32m--> 164\u001b[0;31m             \u001b[0;32mraise\u001b[0m \u001b[0mAppException\u001b[0m\u001b[0;34m(\u001b[0m\u001b[0me\u001b[0m\u001b[0;34m,\u001b[0m \u001b[0msys\u001b[0m\u001b[0;34m)\u001b[0m \u001b[0;32mfrom\u001b[0m \u001b[0me\u001b[0m\u001b[0;34m\u001b[0m\u001b[0;34m\u001b[0m\u001b[0m\n\u001b[0m\u001b[1;32m    165\u001b[0m \u001b[0;34m\u001b[0m\u001b[0m\n",
      "\u001b[0;31mAppException\u001b[0m: Error occurred python script name [/home/pk/Desktop/ML Project/Forest-Fire/app_src/stage_04_model_evaluation.py] line number [104] error message [X has 11 features, but ColumnTransformer is expecting 10 features as input.].",
      "\nThe above exception was the direct cause of the following exception:\n",
      "\u001b[0;31mAppException\u001b[0m                              Traceback (most recent call last)",
      "\u001b[0;32m~/Desktop/ML Project/Forest-Fire/app_pipeline/training_pipeline.py\u001b[0m in \u001b[0;36mstart_training_pipeline\u001b[0;34m(self)\u001b[0m\n\u001b[1;32m    123\u001b[0m \u001b[0;34m\u001b[0m\u001b[0m\n\u001b[0;32m--> 124\u001b[0;31m             model_evaluation_artifact = self.start_model_evaluation(data_ingestion_artifact=data_ingestion_artifact,\n\u001b[0m\u001b[1;32m    125\u001b[0m                                                                     \u001b[0mdata_validation_artifact\u001b[0m\u001b[0;34m=\u001b[0m\u001b[0mdata_validation_artifact\u001b[0m\u001b[0;34m,\u001b[0m\u001b[0;34m\u001b[0m\u001b[0;34m\u001b[0m\u001b[0m\n",
      "\u001b[0;32m~/Desktop/ML Project/Forest-Fire/app_pipeline/training_pipeline.py\u001b[0m in \u001b[0;36mstart_model_evaluation\u001b[0;34m(self, data_ingestion_artifact, data_validation_artifact, model_trainer_artifact, data_transformation_artifact)\u001b[0m\n\u001b[1;32m    105\u001b[0m         \u001b[0;32mexcept\u001b[0m \u001b[0mException\u001b[0m \u001b[0;32mas\u001b[0m \u001b[0me\u001b[0m\u001b[0;34m:\u001b[0m\u001b[0;34m\u001b[0m\u001b[0;34m\u001b[0m\u001b[0m\n\u001b[0;32m--> 106\u001b[0;31m             \u001b[0;32mraise\u001b[0m \u001b[0mAppException\u001b[0m\u001b[0;34m(\u001b[0m\u001b[0me\u001b[0m\u001b[0;34m,\u001b[0m \u001b[0msys\u001b[0m\u001b[0;34m)\u001b[0m \u001b[0;32mfrom\u001b[0m \u001b[0me\u001b[0m\u001b[0;34m\u001b[0m\u001b[0;34m\u001b[0m\u001b[0m\n\u001b[0m\u001b[1;32m    107\u001b[0m \u001b[0;34m\u001b[0m\u001b[0m\n",
      "\u001b[0;31mAppException\u001b[0m: Error occurred python script name [/home/pk/Desktop/ML Project/Forest-Fire/app_pipeline/training_pipeline.py] line number [104] error message [Error occurred python script name [/home/pk/Desktop/ML Project/Forest-Fire/app_src/stage_04_model_evaluation.py] line number [104] error message [X has 11 features, but ColumnTransformer is expecting 10 features as input.].].",
      "\nThe above exception was the direct cause of the following exception:\n",
      "\u001b[0;31mAppException\u001b[0m                              Traceback (most recent call last)",
      "\u001b[0;32m/tmp/ipykernel_11309/809191883.py\u001b[0m in \u001b[0;36m<module>\u001b[0;34m\u001b[0m\n\u001b[0;32m----> 1\u001b[0;31m \u001b[0mpipeline\u001b[0m\u001b[0;34m.\u001b[0m\u001b[0mstart_training_pipeline\u001b[0m\u001b[0;34m(\u001b[0m\u001b[0;34m)\u001b[0m\u001b[0;34m\u001b[0m\u001b[0;34m\u001b[0m\u001b[0m\n\u001b[0m",
      "\u001b[0;32m~/Desktop/ML Project/Forest-Fire/app_pipeline/training_pipeline.py\u001b[0m in \u001b[0;36mstart_training_pipeline\u001b[0;34m(self)\u001b[0m\n\u001b[1;32m    135\u001b[0m \u001b[0;34m\u001b[0m\u001b[0m\n\u001b[1;32m    136\u001b[0m         \u001b[0;32mexcept\u001b[0m \u001b[0mException\u001b[0m \u001b[0;32mas\u001b[0m \u001b[0me\u001b[0m\u001b[0;34m:\u001b[0m\u001b[0;34m\u001b[0m\u001b[0;34m\u001b[0m\u001b[0m\n\u001b[0;32m--> 137\u001b[0;31m             \u001b[0;32mraise\u001b[0m \u001b[0mAppException\u001b[0m\u001b[0;34m(\u001b[0m\u001b[0me\u001b[0m\u001b[0;34m,\u001b[0m \u001b[0msys\u001b[0m\u001b[0;34m)\u001b[0m \u001b[0;32mfrom\u001b[0m \u001b[0me\u001b[0m\u001b[0;34m\u001b[0m\u001b[0;34m\u001b[0m\u001b[0m\n\u001b[0m",
      "\u001b[0;31mAppException\u001b[0m: Error occurred python script name [/home/pk/Desktop/ML Project/Forest-Fire/app_pipeline/training_pipeline.py] line number [124] error message [Error occurred python script name [/home/pk/Desktop/ML Project/Forest-Fire/app_pipeline/training_pipeline.py] line number [104] error message [Error occurred python script name [/home/pk/Desktop/ML Project/Forest-Fire/app_src/stage_04_model_evaluation.py] line number [104] error message [X has 11 features, but ColumnTransformer is expecting 10 features as input.].].]."
     ]
    }
   ],
   "source": [
    "pipeline.start_training_pipeline()"
   ]
  },
  {
   "cell_type": "code",
   "execution_count": null,
   "metadata": {},
   "outputs": [],
   "source": []
  },
  {
   "cell_type": "code",
   "execution_count": null,
   "metadata": {},
   "outputs": [],
   "source": []
  },
  {
   "cell_type": "code",
   "execution_count": null,
   "metadata": {},
   "outputs": [],
   "source": []
  }
 ],
 "metadata": {
  "kernelspec": {
   "display_name": "Python 3.9.7 ('base')",
   "language": "python",
   "name": "python3"
  },
  "language_info": {
   "codemirror_mode": {
    "name": "ipython",
    "version": 3
   },
   "file_extension": ".py",
   "mimetype": "text/x-python",
   "name": "python",
   "nbconvert_exporter": "python",
   "pygments_lexer": "ipython3",
   "version": "3.9.7"
  },
  "orig_nbformat": 4,
  "vscode": {
   "interpreter": {
    "hash": "e747c23ad84bd2d0d19cfad0a72b775aaed6f49f767ddbc5bd094fd76b478967"
   }
  }
 },
 "nbformat": 4,
 "nbformat_minor": 2
}
